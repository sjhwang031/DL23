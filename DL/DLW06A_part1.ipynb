{
  "nbformat": 4,
  "nbformat_minor": 0,
  "metadata": {
    "colab": {
      "provenance": [],
      "toc_visible": true,
      "include_colab_link": true
    },
    "kernelspec": {
      "name": "python3",
      "display_name": "Python 3"
    },
    "language_info": {
      "name": "python"
    }
  },
  "cells": [
    {
      "cell_type": "markdown",
      "metadata": {
        "id": "view-in-github",
        "colab_type": "text"
      },
      "source": [
        "<a href=\"https://colab.research.google.com/github/sjhwang031/DL23/blob/main/DL/DLW06A_part1.ipynb\" target=\"_parent\"><img src=\"https://colab.research.google.com/assets/colab-badge.svg\" alt=\"Open In Colab\"/></a>"
      ]
    },
    {
      "cell_type": "markdown",
      "source": [
        "# 🌀**DLW06A Part I (4/12)** Coding and Language games"
      ],
      "metadata": {
        "id": "_mbT_YJKGkm-"
      }
    },
    {
      "cell_type": "markdown",
      "source": [
        "# 💕 Goal: Creating an app similar to **_Word Guessing Game from Hints_**\n",
        "\n",
        "We will be spending 2 weeks to get this go."
      ],
      "metadata": {
        "id": "ppmHMRdisMiv"
      }
    },
    {
      "cell_type": "markdown",
      "source": [
        "##💦 **Demo 1: Making a word quiz.**"
      ],
      "metadata": {
        "id": "MWpQZGE5wZgt"
      }
    },
    {
      "cell_type": "code",
      "source": [
        "#@markdown Run this code to see guesiong game\n",
        "import random\n",
        "\n",
        "# Define a dictionary of words and their hints\n",
        "word_hints = {\n",
        "    \"suprasegmental\": [\n",
        "        \"This term is related to the features of speech that go beyond individual sounds.\",\n",
        "        \"It is often associated with intonation, stress, and timing.\",\n",
        "        \"Examples include pitch, tone, and stress patterns.\",\n",
        "        \"The answer begins with 's'.\"\n",
        "    ],\n",
        "    \"geminate\": [\n",
        "        \"This term is related to a specific type of consonant.\",\n",
        "        \"It refers to a consonant that is pronounced for a longer duration than its regular counterpart.\",\n",
        "        \"In some languages, it can be represented by doubling the consonant in writing.\",\n",
        "        \"The answer begins with 'g'.\"\n",
        "    ],\n",
        "    \"syllable\": [\n",
        "        \"This term is related to a unit of speech.\",\n",
        "        \"It is a sequence of speech sounds, typically consisting of a vowel and any surrounding consonants.\",\n",
        "        \"A word can have one or multiple of these units.\",\n",
        "        \"The answer begins with 's'.\"\n",
        "    ]\n",
        "}\n",
        "\n",
        "# Define guessing game\n",
        "\n",
        "def guessing_game(word_hints):\n",
        "    words = list(word_hints.keys())\n",
        "    random.shuffle(words)\n",
        "\n",
        "    for word in words:\n",
        "        print(\"\\nGuess the word based on the following hints:\")\n",
        "        hints = word_hints[word]\n",
        "        attempts = 0\n",
        "\n",
        "        while attempts < len(hints):\n",
        "            print(f\"Hint {attempts + 1}: {hints[attempts]}\")\n",
        "            guess = input(\"Your guess: \").strip().lower()\n",
        "\n",
        "            if guess == word.lower():\n",
        "                print(\"Congratulations! You guessed the correct word!\\n\")\n",
        "                break\n",
        "            else:\n",
        "                print(\"Incorrect. Try again with another hint.\\n\")\n",
        "                attempts += 1\n",
        "\n",
        "        if attempts == len(hints):\n",
        "            print(f\"Sorry, you've run out of hints. The correct word was: {word}\\n\")\n",
        "\n",
        "# Using this conditional structure is a common practice in Python to allow a script to be both executed as a standalone program and imported as a module in other scripts without immediately running the code within the script.\n",
        "if __name__ == \"__main__\":\n",
        "  guessing_game(word_hints)"
      ],
      "metadata": {
        "cellView": "form",
        "id": "68fDLUnZs8KF",
        "outputId": "f981376e-0619-4f10-bf8c-8dcbdf8918be",
        "colab": {
          "base_uri": "https://localhost:8080/"
        }
      },
      "execution_count": 1,
      "outputs": [
        {
          "output_type": "stream",
          "name": "stdout",
          "text": [
            "\n",
            "Guess the word based on the following hints:\n",
            "Hint 1: This term is related to a unit of speech.\n",
            "Your guess: segment\n",
            "Incorrect. Try again with another hint.\n",
            "\n",
            "Hint 2: It is a sequence of speech sounds, typically consisting of a vowel and any surrounding consonants.\n",
            "Your guess: syllable\n",
            "Congratulations! You guessed the correct word!\n",
            "\n",
            "\n",
            "Guess the word based on the following hints:\n",
            "Hint 1: This term is related to a specific type of consonant.\n",
            "Your guess: stop\n",
            "Incorrect. Try again with another hint.\n",
            "\n",
            "Hint 2: It refers to a consonant that is pronounced for a longer duration than its regular counterpart.\n",
            "Your guess: glide\n",
            "Incorrect. Try again with another hint.\n",
            "\n",
            "Hint 3: In some languages, it can be represented by doubling the consonant in writing.\n",
            "Your guess: geminate\n",
            "Congratulations! You guessed the correct word!\n",
            "\n",
            "\n",
            "Guess the word based on the following hints:\n",
            "Hint 1: This term is related to the features of speech that go beyond individual sounds.\n",
            "Your guess: sibillant\n",
            "Incorrect. Try again with another hint.\n",
            "\n",
            "Hint 2: It is often associated with intonation, stress, and timing.\n",
            "Your guess: coarticulation\n",
            "Incorrect. Try again with another hint.\n",
            "\n",
            "Hint 3: Examples include pitch, tone, and stress patterns.\n",
            "Your guess: suprasegmental\n",
            "Congratulations! You guessed the correct word!\n",
            "\n"
          ]
        }
      ]
    },
    {
      "cell_type": "markdown",
      "source": [
        "##💦**Demo 2: Convert a statement to a yes-no question**"
      ],
      "metadata": {
        "id": "DKwjeU8pW-iu"
      }
    },
    {
      "cell_type": "code",
      "source": [
        "#@markdown Install and import libraries\n",
        "%%capture\n",
        "!pip install gtts\n",
        "!pip install IPython\n",
        "from gtts import gTTS\n",
        "from IPython.display import Audio, display\n",
        "\n",
        "#@markdown etts(), ktts()\n",
        "def etts(text):\n",
        "  text_to_say = text\n",
        "\n",
        "  gtts_object = gTTS(text = text_to_say,\n",
        "                     lang = \"en\",\n",
        "                    slow = False)\n",
        "  \n",
        "  gtts_object.save(\"E-audio.mp3\")\n",
        "  return Audio(\"E-audio.mp3\")\n",
        "\n",
        "def ktts(text):\n",
        "  text_to_say = text\n",
        "\n",
        "  gtts_object = gTTS(text = text_to_say,\n",
        "                     lang = \"ko\",\n",
        "                    slow = False)\n",
        "  \n",
        "  gtts_object.save(\"K-audio.mp3\")\n",
        "  return Audio(\"K-audio.mp3\")"
      ],
      "metadata": {
        "cellView": "form",
        "id": "TajMEehr8_7D"
      },
      "execution_count": 2,
      "outputs": []
    },
    {
      "cell_type": "markdown",
      "source": [
        "---\n",
        "### Complete version with some restriction \n",
        "\n",
        "1. The statement you're entering must contain a be-verb.\n",
        "2. If you use a proper noun as a subject, restrict it to one of the followings: \n",
        "\n",
        "> **Male: Tom, Thomas, Bill**\n",
        "\n",
        "> **Female: Mary, Jane, Jessica**\n",
        "\n",
        "2. Must contain a punctuation(.)\n",
        "---"
      ],
      "metadata": {
        "id": "5XYJaX2IDrOu"
      }
    },
    {
      "cell_type": "code",
      "source": [
        "#@markdown Statment to a Yes-No question (Audio autoplay)\n",
        "sentence = input(\"Type a sentence containing a be verb: e.g., I am a students.\\n\")\n",
        "beverbs = [\"is\", \"was\", \"are\", \"were\", \"am\"]\n",
        "pronouns = [\"I\",\"You\",\"He\",\"She\",\"They\",\"It\"]\n",
        "names = [\"Mary\", \"Jane\", \"Tom\",\"Thomas\",\"Jessica\", \"Bill\"]\n",
        "\n",
        "def check_word(list_A, list_B):\n",
        "    for a in list_A:\n",
        "        for b in list_B:\n",
        "            if b in a:\n",
        "                mword = a\n",
        "                return True, mword\n",
        "    return False, None\n",
        "\n",
        "\n",
        "cat1 = sentence.split()\n",
        "\n",
        "result = check_word(cat1,beverbs)\n",
        "\n",
        "if result[0] == True:\n",
        "  if cat1[0] in pronouns:\n",
        "      b = result[1]\n",
        "      be = \" \"+b+\" \"\n",
        "      ss = sentence.split(be)\n",
        "      subj = ss[0]\n",
        "      nsubj = subj[0].lower()+subj[1:]\n",
        "      pred = ss[1]\n",
        "      w1 = b[0].upper() + b[1:] # Capitalized be verb\n",
        "      newsent = w1 + \" \" + nsubj + \" \" + pred[:-1] + \"?\"\n",
        "      mytext = \"I'll make it to a yes-no question: \" + newsent\n",
        "      print(\"Yes-no question: \", newsent)\n",
        "  elif cat1[0] not in pronouns and cat1[0] in names:\n",
        "        b = result[1]\n",
        "        be = \" \"+b+\" \"\n",
        "        ss = sentence.split(be)\n",
        "        subj = ss[0]\n",
        "        pred = ss[1]\n",
        "        w1 = b[0].upper() + b[1:] # Capitalized be verb\n",
        "        newsent = w1 + \" \" + subj + \" \" + pred[:-1] + \"?\"\n",
        "        mytext = \"I'll make it to a yes-no question: \" + newsent\n",
        "        print(\"Yes-no question: \", newsent)\n",
        "  elif cat1[0] not in pronouns and cat1[0] not in names:\n",
        "        b = result[1]\n",
        "        be = \" \"+b+\" \"\n",
        "        ss = sentence.split(be)\n",
        "        subj = ss[0]\n",
        "        nsubj = subj[0].lower()+subj[1:]\n",
        "        pred = ss[1]\n",
        "        w1 = b[0].upper() + b[1:] # Capitalized be verb\n",
        "        newsent = w1 + \" \" + nsubj + \" \" + pred[:-1] + \"?\"\n",
        "        mytext = \"I'll make it to a yes-no question: \" + newsent\n",
        "        print(\"Yes-no question: \", newsent)\n",
        "\n",
        "else:\n",
        "    mytext = \"The sentence you\\' provided does not contain a 'Be' verb. Try again.\"\n",
        "    print(\"Type a sentence that contains a be verb.\")\n",
        "\n",
        "etts(mytext)\n",
        "Audio(\"E-audio.mp3\",autoplay=True)"
      ],
      "metadata": {
        "cellView": "form",
        "id": "ZjPSWFub-55P",
        "outputId": "4037a003-259e-495e-89e4-4ffabbf78ee4",
        "colab": {
          "base_uri": "https://localhost:8080/",
          "height": 129
        }
      },
      "execution_count": 14,
      "outputs": [
        {
          "output_type": "stream",
          "name": "stdout",
          "text": [
            "Type a sentence containing a be verb: e.g., I am a students.\n",
            "He is a student.\n",
            "Yes-no question:  Is he a student?\n"
          ]
        },
        {
          "output_type": "execute_result",
          "data": {
            "text/plain": [
              "<IPython.lib.display.Audio object>"
            ],
            "text/html": [
              "\n",
              "                <audio  controls=\"controls\" autoplay=\"autoplay\">\n",
              "                    <source src=\"data:audio/mpeg;base64,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\" type=\"audio/mpeg\" />\n",
              "                    Your browser does not support the audio element.\n",
              "                </audio>\n",
              "              "
            ]
          },
          "metadata": {},
          "execution_count": 14
        }
      ]
    },
    {
      "cell_type": "markdown",
      "source": [
        "## 💦**Demo 3: Story game**"
      ],
      "metadata": {
        "id": "UG0_f0gJQl1r"
      }
    },
    {
      "cell_type": "code",
      "source": [
        "#@markdown Adventure game with reading\n",
        "print(\"Welcome to the adventure game!\")\n",
        "print(\"=\"*50)\n",
        "print(\"You are a high school student who has been chosen to embark on a quest to save your town from a mysterious curse.\")\n",
        "print(\"You will face various challenges and choices along the way, and your decisions will determine the outcome of the story.\")\n",
        "print(\"=\"*50)\n",
        "name = input(\"What is your name? \")\n",
        "print(\"=\"*50)\n",
        "print(f\"Nice to meet you, {name}! Are you ready to begin?\")\n",
        "print(\"=\"*50)\n",
        "# Start of the story\n",
        "print(\"You wake up one morning to find that your town is covered in a thick fog.\")\n",
        "print(\"People are starting to get sick, and strange things are happening.\")\n",
        "print(\"You decide to investigate and find out that a curse has been cast upon the town.\")\n",
        "print(\"You meet a wise old sage who tells you that the only way to lift the curse is to find a magical artifact that is hidden in a dangerous dungeon.\")\n",
        "print(\"=\"*50)\n",
        "# First choice\n",
        "print(\"You have two options:\")\n",
        "print(\"Option 1: Search for clues in the town.\")\n",
        "print(\"Option 2: Go straight to the dungeon.\")\n",
        "print(\"=\"*50)\n",
        "choice = input(\"Which option do you choose? (1 or 2) \")\n",
        "print(\"=\"*50)\n",
        "if choice == \"1\":\n",
        "    print(\"You spend the day talking to townspeople and searching for clues.\")\n",
        "    print(\"You find a cryptic message that leads you to a hidden cave.\")\n",
        "elif choice == \"2\":\n",
        "    print(\"You journey to the dungeon and face many dangers along the way.\")\n",
        "    print(\"You eventually reach the entrance to the dungeon.\")\n",
        "print(\"=\"*50)\n",
        "# Second choice\n",
        "print(\"You have two options:\")\n",
        "print(\"Option 1: Enter the cave.\")\n",
        "print(\"Option 2: Enter the dungeon.\")\n",
        "print(\"=\"*50)\n",
        "choice = input(\"Which option do you choose? (1 or 2) \")\n",
        "print(\"=\"*50)\n",
        "if choice == \"1\":\n",
        "    print(\"=\"*50)\n",
        "    print(\"You enter the cave and find the magical artifact!\")\n",
        "    print(\"You bring it back to the town and the curse is lifted.\")\n",
        "    print(\"Congratulations! You have saved the town!\")\n",
        "    print(\"=\"*50)\n",
        "elif choice == \"2\":\n",
        "    print(\"=\"*50)\n",
        "    print(\"You enter the dungeon and face many challenges.\")\n",
        "    print(\"You eventually find the magical artifact, but it is guarded by a powerful monster.\")\n",
        "    print(\"You must defeat the monster to retrieve the artifact.\")\n",
        "    print(\"You engage in a fierce battle!\")\n",
        "    print(\"You lost the battle and the curse remains.\")\n",
        "    print(\"Brave You! Though the curse remains, people appreicate your effort.\")\n",
        "    print(\"=\"*50)\n"
      ],
      "metadata": {
        "cellView": "form",
        "id": "qBAUNW9qP75J",
        "outputId": "5beb34f2-512e-4abc-c957-f2866d45a245",
        "colab": {
          "base_uri": "https://localhost:8080/"
        }
      },
      "execution_count": 17,
      "outputs": [
        {
          "output_type": "stream",
          "name": "stdout",
          "text": [
            "Welcome to the adventure game!\n",
            "==================================================\n",
            "You are a high school student who has been chosen to embark on a quest to save your town from a mysterious curse.\n",
            "You will face various challenges and choices along the way, and your decisions will determine the outcome of the story.\n",
            "==================================================\n",
            "What is your name? g\n",
            "==================================================\n",
            "Nice to meet you, g! Are you ready to begin?\n",
            "==================================================\n",
            "You wake up one morning to find that your town is covered in a thick fog.\n",
            "People are starting to get sick, and strange things are happening.\n",
            "You decide to investigate and find out that a curse has been cast upon the town.\n",
            "You meet a wise old sage who tells you that the only way to lift the curse is to find a magical artifact that is hidden in a dangerous dungeon.\n",
            "==================================================\n",
            "You have two options:\n",
            "Option 1: Search for clues in the town.\n",
            "Option 2: Go straight to the dungeon.\n",
            "==================================================\n",
            "Which option do you choose? (1 or 2) 2\n",
            "==================================================\n",
            "You journey to the dungeon and face many dangers along the way.\n",
            "You eventually reach the entrance to the dungeon.\n",
            "==================================================\n",
            "You have two options:\n",
            "Option 1: Enter the cave.\n",
            "Option 2: Enter the dungeon.\n",
            "==================================================\n",
            "Which option do you choose? (1 or 2) 1\n",
            "==================================================\n",
            "==================================================\n",
            "You enter the cave and find the magical artifact!\n",
            "You bring it back to the town and the curse is lifted.\n",
            "Congratulations! You have saved the town!\n",
            "==================================================\n"
          ]
        }
      ]
    },
    {
      "cell_type": "code",
      "source": [
        "#@markdown Story game with listening (audio)\n",
        "from gtts import gTTS\n",
        "import IPython.display as ipd\n",
        "\n",
        "def play_audio(text):\n",
        "    language = 'en'\n",
        "    audio = gTTS(text=text, lang=language, slow=False)\n",
        "    audio.save(\"audio.mp3\")\n",
        "    ipd.display(ipd.Audio(\"audio.mp3\", autoplay=True))\n",
        "\n",
        "# Introduction\n",
        "play_audio(\"Welcome to the story game. You are walking home from school when you hear footsteps behind you. You look back and see a shady figure in the distance. What do you do?\")\n",
        "ipd.clear_output(wait=True)\n",
        "input(\"Press Enter to continue...\")\n",
        "\n",
        "# Stage 1\n",
        "play_audio(\"You decide to run. Do you run towards the park or towards the busy street?\")\n",
        "ipd.clear_output(wait=True)\n",
        "choice = input(\"Enter 1 to run towards the park, or 2 to run towards the busy street: \")\n",
        "if choice == \"1\":\n",
        "    play_audio(\"You run towards the park and manage to lose the shady figure. You continue walking home and make it back safely.\")\n",
        "elif choice == \"2\":\n",
        "    play_audio(\"You run towards the busy street, hoping to find someone to help you. As you get closer, you realize that the figure is a police officer. You stop and explain what happened, and the officer escorts you home safely.\")\n",
        "ipd.clear_output(wait=True)\n",
        "input(\"Press Enter to continue...\")\n",
        "\n",
        "# Stage 2\n",
        "play_audio(\"You arrive home and find that your front door is slightly open. Do you go inside or call the police?\")\n",
        "ipd.clear_output(wait=True)\n",
        "choice = input(\"Enter 1 to go inside, or 2 to call the police: \")\n",
        "if choice == \"1\":\n",
        "    play_audio(\"You cautiously enter your home and find that everything is as you left it. You breathe a sigh of relief and go about your evening.\")\n",
        "elif choice == \"2\":\n",
        "    play_audio(\"You call the police and they arrive shortly after. They search your home and find no one inside. You spend the night at a friend's house and return home the next day.\")\n",
        "ipd.clear_output(wait=True)\n",
        "input(\"Press Enter to continue...\")\n",
        "\n",
        "# Conclusion\n",
        "play_audio(\"Good choice! you have successfully made it home safely. Thanks for playing!\")\n",
        "ipd.clear_output(wait=True)\n"
      ],
      "metadata": {
        "cellView": "form",
        "id": "mx_BDEl-TqLe",
        "outputId": "24a070dd-027d-4381-ec30-e5500e8fc404",
        "colab": {
          "base_uri": "https://localhost:8080/",
          "height": 93
        }
      },
      "execution_count": 19,
      "outputs": [
        {
          "name": "stdout",
          "output_type": "stream",
          "text": [
            "Press Enter to continue...1\n"
          ]
        },
        {
          "output_type": "display_data",
          "data": {
            "text/plain": [
              "<IPython.lib.display.Audio object>"
            ],
            "text/html": [
              "\n",
              "                <audio  controls=\"controls\" autoplay=\"autoplay\">\n",
              "                    <source src=\"data:audio/mpeg;base64,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\" type=\"audio/mpeg\" />\n",
              "                    Your browser does not support the audio element.\n",
              "                </audio>\n",
              "              "
            ]
          },
          "metadata": {}
        }
      ]
    },
    {
      "cell_type": "markdown",
      "source": [
        "---\n",
        "# 📙Concepts and elements to cover for our goal:\n",
        "\n",
        "0. Importing modules: Explain how to import a module (like random) and use its functions (like random.shuffle()).\n",
        "\n",
        "1. Python basics: Basic data types (strings, integers, lists, dictionaries), variables, and basic input/output functions (like print() and input()).\n",
        "\n",
        "2. String manipulation: Cover string methods like .strip() and .lower().\n",
        "3. Control structures: Introduce for loops, while loops, and conditional statements (if, elif, else).\n",
        "\n",
        "4. Functions: Explain how to define and use functions, including function parameters. \n",
        "\n",
        "5. F-strings: Introduce f-strings (formatted string literals) and how to embed expressions inside string literals using curly braces {}.\n",
        "---"
      ],
      "metadata": {
        "id": "2VMRdKbJwOsk"
      }
    },
    {
      "cell_type": "markdown",
      "source": [
        "# [0] Importing modules\n",
        "\n",
        "1. **function, (class), module, package, and library**\n",
        "\n",
        "> (class) > functions\n",
        "\n",
        "\n",
        "2. Let's use the analogy of a toolbox: \n",
        "\n",
        "+ **a module** is a single tool, (e.g., random) \n",
        "+ **a package** is a toolbox containing multiple tools (e.g., gTTS)\n",
        "+ **a library** is a set of toolboxes designed for a specific purpose. (e.g., nltk - Natural Language Tool Kit) _>> Next time_"
      ],
      "metadata": {
        "id": "wgZEzhkQwzc3"
      }
    },
    {
      "cell_type": "markdown",
      "source": [
        "##A. 'gTTS' package"
      ],
      "metadata": {
        "id": "298wKG9q7-rN"
      }
    },
    {
      "cell_type": "code",
      "source": [
        "!pip install gtts\n",
        "!pip install IPython\n",
        "from gtts import gTTS\n",
        "from IPython.display import Audio, display"
      ],
      "metadata": {
        "id": "YLCRqNbW8E9J",
        "outputId": "f13c7a34-2e00-492b-d383-9414f78b3b8d",
        "colab": {
          "base_uri": "https://localhost:8080/"
        }
      },
      "execution_count": 23,
      "outputs": [
        {
          "output_type": "stream",
          "name": "stdout",
          "text": [
            "Looking in indexes: https://pypi.org/simple, https://us-python.pkg.dev/colab-wheels/public/simple/\n",
            "Requirement already satisfied: gtts in /usr/local/lib/python3.9/dist-packages (2.3.1)\n",
            "Requirement already satisfied: requests<3,>=2.27 in /usr/local/lib/python3.9/dist-packages (from gtts) (2.27.1)\n",
            "Requirement already satisfied: click<8.2,>=7.1 in /usr/local/lib/python3.9/dist-packages (from gtts) (8.1.3)\n",
            "Requirement already satisfied: urllib3<1.27,>=1.21.1 in /usr/local/lib/python3.9/dist-packages (from requests<3,>=2.27->gtts) (1.26.15)\n",
            "Requirement already satisfied: charset-normalizer~=2.0.0 in /usr/local/lib/python3.9/dist-packages (from requests<3,>=2.27->gtts) (2.0.12)\n",
            "Requirement already satisfied: certifi>=2017.4.17 in /usr/local/lib/python3.9/dist-packages (from requests<3,>=2.27->gtts) (2022.12.7)\n",
            "Requirement already satisfied: idna<4,>=2.5 in /usr/local/lib/python3.9/dist-packages (from requests<3,>=2.27->gtts) (3.4)\n",
            "Looking in indexes: https://pypi.org/simple, https://us-python.pkg.dev/colab-wheels/public/simple/\n",
            "Requirement already satisfied: IPython in /usr/local/lib/python3.9/dist-packages (7.34.0)\n",
            "Requirement already satisfied: prompt-toolkit!=3.0.0,!=3.0.1,<3.1.0,>=2.0.0 in /usr/local/lib/python3.9/dist-packages (from IPython) (3.0.38)\n",
            "Requirement already satisfied: backcall in /usr/local/lib/python3.9/dist-packages (from IPython) (0.2.0)\n",
            "Requirement already satisfied: jedi>=0.16 in /usr/local/lib/python3.9/dist-packages (from IPython) (0.18.2)\n",
            "Requirement already satisfied: pygments in /usr/local/lib/python3.9/dist-packages (from IPython) (2.14.0)\n",
            "Requirement already satisfied: matplotlib-inline in /usr/local/lib/python3.9/dist-packages (from IPython) (0.1.6)\n",
            "Requirement already satisfied: setuptools>=18.5 in /usr/local/lib/python3.9/dist-packages (from IPython) (67.6.1)\n",
            "Requirement already satisfied: decorator in /usr/local/lib/python3.9/dist-packages (from IPython) (4.4.2)\n",
            "Requirement already satisfied: pexpect>4.3 in /usr/local/lib/python3.9/dist-packages (from IPython) (4.8.0)\n",
            "Requirement already satisfied: pickleshare in /usr/local/lib/python3.9/dist-packages (from IPython) (0.7.5)\n",
            "Requirement already satisfied: traitlets>=4.2 in /usr/local/lib/python3.9/dist-packages (from IPython) (5.7.1)\n",
            "Requirement already satisfied: parso<0.9.0,>=0.8.0 in /usr/local/lib/python3.9/dist-packages (from jedi>=0.16->IPython) (0.8.3)\n",
            "Requirement already satisfied: ptyprocess>=0.5 in /usr/local/lib/python3.9/dist-packages (from pexpect>4.3->IPython) (0.7.0)\n",
            "Requirement already satisfied: wcwidth in /usr/local/lib/python3.9/dist-packages (from prompt-toolkit!=3.0.0,!=3.0.1,<3.1.0,>=2.0.0->IPython) (0.2.6)\n"
          ]
        }
      ]
    },
    {
      "cell_type": "code",
      "source": [
        "#@markdown etts(), ktts()\n",
        "def etts(text):\n",
        "  text_to_say = text\n",
        "\n",
        "  gtts_object = gTTS(text = text_to_say,\n",
        "                     lang = \"en\",\n",
        "                    slow = False)\n",
        "  \n",
        "  gtts_object.save(\"E-audio.mp3\")\n",
        "  return Audio(\"E-audio.mp3\")\n",
        "\n",
        "def ktts(text):\n",
        "  text_to_say = text\n",
        "\n",
        "  gtts_object = gTTS(text = text_to_say,\n",
        "                     lang = \"ko\",\n",
        "                    slow = False)\n",
        "  \n",
        "  gtts_object.save(\"K-audio.mp3\")\n",
        "  return Audio(\"K-audio.mp3\")"
      ],
      "metadata": {
        "cellView": "form",
        "id": "bYDfENzGRUFb"
      },
      "execution_count": 38,
      "outputs": []
    },
    {
      "cell_type": "markdown",
      "source": [
        "## B. 'random' module\n",
        "\n",
        "[Random Picker App using 'random'](https://github.com/MK316/Spring2023/blob/main/RandomPickerS23.ipynb)"
      ],
      "metadata": {
        "id": "vSFe_Umb68o9"
      }
    },
    {
      "cell_type": "code",
      "source": [
        "import random"
      ],
      "metadata": {
        "id": "t8tYICF_1Yx8"
      },
      "execution_count": 35,
      "outputs": []
    },
    {
      "cell_type": "markdown",
      "source": [
        "Return a number between 3 and 9 (both included):"
      ],
      "metadata": {
        "id": "RlWQ5dXark-r"
      }
    },
    {
      "cell_type": "code",
      "source": [
        "random.randint(1, 100) #random.randint(x,y)는 함수이므로 문법대로 사용해야 함."
      ],
      "metadata": {
        "colab": {
          "base_uri": "https://localhost:8080/"
        },
        "id": "sMf1Ow7W11EZ",
        "outputId": "f87143cc-e856-4f58-cb5b-94b57c7d9ccc"
      },
      "execution_count": 39,
      "outputs": [
        {
          "output_type": "execute_result",
          "data": {
            "text/plain": [
              "76"
            ]
          },
          "metadata": {},
          "execution_count": 39
        }
      ]
    },
    {
      "cell_type": "code",
      "source": [
        "a1 = random.randint(1, 100)\n",
        "a1*10  #변수를 이용하면 결과값을 이용한 다른 연산이나 작업이 가능하다."
      ],
      "metadata": {
        "colab": {
          "base_uri": "https://localhost:8080/"
        },
        "id": "WUVN9-Rs825s",
        "outputId": "3b1ed910-0e3c-49dd-d11f-c7c82d93784d"
      },
      "execution_count": 41,
      "outputs": [
        {
          "output_type": "execute_result",
          "data": {
            "text/plain": [
              "800"
            ]
          },
          "metadata": {},
          "execution_count": 41
        }
      ]
    },
    {
      "cell_type": "markdown",
      "source": [
        "# [1] Python basics: \n",
        "\n",
        "+ Basic data types (strings, integers, lists, dictionaries), \n",
        "+ variables, \n",
        "+ basic input/output functions (like print() and input()).\n",
        "\n"
      ],
      "metadata": {
        "id": "_vTm-kXl8qa_"
      }
    },
    {
      "cell_type": "markdown",
      "source": [
        "## [1-1] Basic data types"
      ],
      "metadata": {
        "id": "qaQ0_hkoENRX"
      }
    },
    {
      "cell_type": "markdown",
      "source": [
        "### A. strings"
      ],
      "metadata": {
        "id": "HB86s1k990Hh"
      }
    },
    {
      "cell_type": "code",
      "source": [
        "a2 = \"Welcome\"\n",
        "a3 = \"2023\"\n",
        "a4 = \"화이팅\""
      ],
      "metadata": {
        "id": "L_OImwSL94Kr"
      },
      "execution_count": 31,
      "outputs": []
    },
    {
      "cell_type": "markdown",
      "source": [
        "☺️ DIY: How to get \"Welcome, 2023!\""
      ],
      "metadata": {
        "id": "wkYUBwu1-IvG"
      }
    },
    {
      "cell_type": "code",
      "source": [
        "print(a2, a3)"
      ],
      "metadata": {
        "id": "XZ2LHJcl9_u4",
        "outputId": "af366cd1-da81-4032-ec47-1d7bf690ae97",
        "colab": {
          "base_uri": "https://localhost:8080/"
        }
      },
      "execution_count": 28,
      "outputs": [
        {
          "output_type": "stream",
          "name": "stdout",
          "text": [
            "Welcome 2023\n"
          ]
        }
      ]
    },
    {
      "cell_type": "markdown",
      "source": [
        "☺️ DIY: Let a4 = \"화이팅\", and get '화이팅화이팅화이팅화이팅화이팅화이팅화이팅화이팅화이팅화이팅'(10번)"
      ],
      "metadata": {
        "id": "WNaHBznU-yEd"
      }
    },
    {
      "cell_type": "code",
      "source": [
        "print(a4,a4,a4,a4,a4,a4,a4,a4,a4,a4)\n",
        "a4*10"
      ],
      "metadata": {
        "id": "0vfPcih3-xg4",
        "outputId": "1565263a-698e-4888-decf-914e4b9fdafd",
        "colab": {
          "base_uri": "https://localhost:8080/",
          "height": 54
        }
      },
      "execution_count": 44,
      "outputs": [
        {
          "output_type": "stream",
          "name": "stdout",
          "text": [
            "화이팅 화이팅 화이팅 화이팅 화이팅 화이팅 화이팅 화이팅 화이팅 화이팅\n"
          ]
        },
        {
          "output_type": "execute_result",
          "data": {
            "text/plain": [
              "'화이팅화이팅화이팅화이팅화이팅화이팅화이팅화이팅화이팅화이팅'"
            ],
            "application/vnd.google.colaboratory.intrinsic+json": {
              "type": "string"
            }
          },
          "metadata": {},
          "execution_count": 44
        }
      ]
    },
    {
      "cell_type": "code",
      "source": [
        "type(a2). # data type of the variable a2"
      ],
      "metadata": {
        "colab": {
          "base_uri": "https://localhost:8080/",
          "height": 137
        },
        "id": "1XroWNyGADZU",
        "outputId": "e1c05168-2552-4f6a-ad3f-ea335d879eef"
      },
      "execution_count": 34,
      "outputs": [
        {
          "output_type": "error",
          "ename": "SyntaxError",
          "evalue": "ignored",
          "traceback": [
            "\u001b[0;36m  File \u001b[0;32m\"<ipython-input-34-1c3ce31cbf54>\"\u001b[0;36m, line \u001b[0;32m1\u001b[0m\n\u001b[0;31m    type(a2). # data type of the variable a2\u001b[0m\n\u001b[0m              ^\u001b[0m\n\u001b[0;31mSyntaxError\u001b[0m\u001b[0;31m:\u001b[0m invalid syntax\n"
          ]
        }
      ]
    },
    {
      "cell_type": "markdown",
      "source": [
        "###B. Integers, float"
      ],
      "metadata": {
        "id": "kpNXrqZ2_9I2"
      }
    },
    {
      "cell_type": "code",
      "source": [
        "x1 = 45; y1 = 0.5\n",
        "x1 * y1"
      ],
      "metadata": {
        "colab": {
          "base_uri": "https://localhost:8080/"
        },
        "id": "CEs2BHNbAB1Q",
        "outputId": "e63af813-d7ca-422b-91d2-75a50ef4564e"
      },
      "execution_count": null,
      "outputs": [
        {
          "output_type": "execute_result",
          "data": {
            "text/plain": [
              "22.5"
            ]
          },
          "metadata": {},
          "execution_count": 23
        }
      ]
    },
    {
      "cell_type": "code",
      "source": [],
      "metadata": {
        "id": "2WarI3IQsRJX",
        "outputId": "8304e3e2-9753-45f0-adb6-b2da469a304a",
        "colab": {
          "base_uri": "https://localhost:8080/"
        }
      },
      "execution_count": null,
      "outputs": [
        {
          "output_type": "execute_result",
          "data": {
            "text/plain": [
              "float"
            ]
          },
          "metadata": {},
          "execution_count": 24
        }
      ]
    },
    {
      "cell_type": "markdown",
      "source": [
        "### C. List datatype"
      ],
      "metadata": {
        "id": "S7PJcJFkBO46"
      }
    },
    {
      "cell_type": "code",
      "source": [
        "x2 = [1,2,3]\n",
        "x2"
      ],
      "metadata": {
        "colab": {
          "base_uri": "https://localhost:8080/"
        },
        "id": "LjSEH6lABR98",
        "outputId": "eb284b7f-40ef-48c5-ea6f-926543a1ee7b"
      },
      "execution_count": null,
      "outputs": [
        {
          "output_type": "execute_result",
          "data": {
            "text/plain": [
              "[1, 2, 3]"
            ]
          },
          "metadata": {},
          "execution_count": 26
        }
      ]
    },
    {
      "cell_type": "markdown",
      "source": [
        "x2[index]: Python index starts from 0"
      ],
      "metadata": {
        "id": "xcPyj0Fesdiu"
      }
    },
    {
      "cell_type": "code",
      "source": [
        "x2[0]"
      ],
      "metadata": {
        "id": "VGWl1av6BYGu"
      },
      "execution_count": null,
      "outputs": []
    },
    {
      "cell_type": "code",
      "source": [
        "# range(x,y)\n",
        "x3 = range(1,10)\n",
        "list(x3)  #list(), range(1,10)"
      ],
      "metadata": {
        "colab": {
          "base_uri": "https://localhost:8080/"
        },
        "id": "WNmjoCQ1ANr4",
        "outputId": "9e1cf838-bd7f-47f5-def6-731599ef24a5"
      },
      "execution_count": null,
      "outputs": [
        {
          "output_type": "execute_result",
          "data": {
            "text/plain": [
              "[1, 2, 3, 4, 5, 6, 7, 8, 9]"
            ]
          },
          "metadata": {},
          "execution_count": 28
        }
      ]
    },
    {
      "cell_type": "code",
      "source": [
        "x4 = \"John\"\n",
        "list(x4)"
      ],
      "metadata": {
        "colab": {
          "base_uri": "https://localhost:8080/"
        },
        "id": "amRP-ytuBlO6",
        "outputId": "a8eeef49-a6aa-4452-f9e2-d933278c0bdc"
      },
      "execution_count": null,
      "outputs": [
        {
          "output_type": "execute_result",
          "data": {
            "text/plain": [
              "['J', 'o', 'h', 'n']"
            ]
          },
          "metadata": {},
          "execution_count": 29
        }
      ]
    },
    {
      "cell_type": "markdown",
      "source": [
        "###D. Dictionary datatype: {'key':'value'}\n",
        "\n",
        "In Python, a dictionary is a built-in data type that represents a collection of key-value pairs. Each key-value pair in a dictionary is separated by a colon (:), and each pair is separated by a comma. "
      ],
      "metadata": {
        "id": "ZoyOSN_QCCdO"
      }
    },
    {
      "cell_type": "code",
      "source": [
        "mydict = {\"API\":\"Application Programming Interface\", \"GPT\":\"Generative Pretrained Transformer\"}\n",
        "mydict['API']"
      ],
      "metadata": {
        "colab": {
          "base_uri": "https://localhost:8080/",
          "height": 35
        },
        "id": "PdRkfL3JBMWK",
        "outputId": "0e165aee-8079-4359-c38e-64e33c14c9ac"
      },
      "execution_count": null,
      "outputs": [
        {
          "output_type": "execute_result",
          "data": {
            "text/plain": [
              "'Application Programming Interface'"
            ],
            "application/vnd.google.colaboratory.intrinsic+json": {
              "type": "string"
            }
          },
          "metadata": {},
          "execution_count": 30
        }
      ]
    },
    {
      "cell_type": "code",
      "source": [
        "mydict['GPT']"
      ],
      "metadata": {
        "id": "muVfPouBs47b",
        "outputId": "1d08be3c-9e45-4a57-c0e4-1d7ff7368986",
        "colab": {
          "base_uri": "https://localhost:8080/",
          "height": 35
        }
      },
      "execution_count": null,
      "outputs": [
        {
          "output_type": "execute_result",
          "data": {
            "text/plain": [
              "'Generative Pretrained Transformer'"
            ],
            "application/vnd.google.colaboratory.intrinsic+json": {
              "type": "string"
            }
          },
          "metadata": {},
          "execution_count": 31
        }
      ]
    },
    {
      "cell_type": "code",
      "source": [
        "class_size = {\"Class A\": 25, \"Class B\": 30, \"Class C\": 32}\n",
        "class_size['Class C']"
      ],
      "metadata": {
        "colab": {
          "base_uri": "https://localhost:8080/"
        },
        "id": "WBs-NrEJDQRC",
        "outputId": "6c9a6b9f-6471-4424-a133-d47bb0d08f8c"
      },
      "execution_count": null,
      "outputs": [
        {
          "output_type": "execute_result",
          "data": {
            "text/plain": [
              "32"
            ]
          },
          "metadata": {},
          "execution_count": 32
        }
      ]
    },
    {
      "cell_type": "markdown",
      "source": [
        "## [1-2] Variables"
      ],
      "metadata": {
        "id": "0m_ux_SoEUos"
      }
    },
    {
      "cell_type": "markdown",
      "source": [
        "## [1-3] input/output functions"
      ],
      "metadata": {
        "id": "YUasz63dEYAX"
      }
    },
    {
      "cell_type": "code",
      "source": [
        "mynumber = 2\n",
        "mynumber"
      ],
      "metadata": {
        "colab": {
          "base_uri": "https://localhost:8080/"
        },
        "id": "BSp7TWkeEfmz",
        "outputId": "3bcd84d2-c721-4bc7-da68-a245706b8b5c"
      },
      "execution_count": null,
      "outputs": [
        {
          "output_type": "execute_result",
          "data": {
            "text/plain": [
              "2"
            ]
          },
          "metadata": {},
          "execution_count": 87
        }
      ]
    },
    {
      "cell_type": "code",
      "source": [
        "yournumber = input()  # In Python, input() is a built-in function that allows you to get user input from the keyboard. \n",
        "yournumber"
      ],
      "metadata": {
        "colab": {
          "base_uri": "https://localhost:8080/",
          "height": 53
        },
        "id": "6LZudH_0En_w",
        "outputId": "783d5cc3-75a8-465a-963e-b294e0816f0a"
      },
      "execution_count": null,
      "outputs": [
        {
          "name": "stdout",
          "output_type": "stream",
          "text": [
            "4\n"
          ]
        },
        {
          "output_type": "execute_result",
          "data": {
            "text/plain": [
              "'4'"
            ],
            "application/vnd.google.colaboratory.intrinsic+json": {
              "type": "string"
            }
          },
          "metadata": {},
          "execution_count": 33
        }
      ]
    },
    {
      "cell_type": "markdown",
      "source": [
        "☺️ After running the code below, can you tell what the resulting output means?"
      ],
      "metadata": {
        "id": "-Z1mQqzlH4k5"
      }
    },
    {
      "cell_type": "code",
      "source": [
        "yournumber*5"
      ],
      "metadata": {
        "colab": {
          "base_uri": "https://localhost:8080/",
          "height": 35
        },
        "id": "5cGgSs3qHxG_",
        "outputId": "61f4269a-ed03-4cae-f717-7f70b0c34f76"
      },
      "execution_count": null,
      "outputs": [
        {
          "output_type": "execute_result",
          "data": {
            "text/plain": [
              "'44444'"
            ],
            "application/vnd.google.colaboratory.intrinsic+json": {
              "type": "string"
            }
          },
          "metadata": {},
          "execution_count": 34
        }
      ]
    },
    {
      "cell_type": "code",
      "source": [
        "type(yournumber)"
      ],
      "metadata": {
        "colab": {
          "base_uri": "https://localhost:8080/"
        },
        "id": "664rKEalISSY",
        "outputId": "5314bd92-1d93-4d40-d399-b18d7d3b8930"
      },
      "execution_count": null,
      "outputs": [
        {
          "output_type": "execute_result",
          "data": {
            "text/plain": [
              "str"
            ]
          },
          "metadata": {},
          "execution_count": 35
        }
      ]
    },
    {
      "cell_type": "code",
      "source": [
        "yournumber = int(yournumber) # changing the type of the value to integer\n",
        "type(yournumber)"
      ],
      "metadata": {
        "colab": {
          "base_uri": "https://localhost:8080/"
        },
        "id": "u_ocEyoAIVC4",
        "outputId": "cae55304-aabb-4b25-bf49-c0c051815f76"
      },
      "execution_count": null,
      "outputs": [
        {
          "output_type": "execute_result",
          "data": {
            "text/plain": [
              "int"
            ]
          },
          "metadata": {},
          "execution_count": 36
        }
      ]
    },
    {
      "cell_type": "markdown",
      "source": [
        "Getting output:"
      ],
      "metadata": {
        "id": "Z9Kzd8ZW7Bri"
      }
    },
    {
      "cell_type": "code",
      "source": [
        "# print() 함수 배우기\n",
        "print(\"대한민국\")\n",
        "\n",
        "a2 = \"화이팅!\"  # a1: variable(변수)\n",
        "print(a2)\n",
        "print(a2*10)\n",
        "print(\"화이팅 10번 합시다: \", a2*10)\n",
        "a2"
      ],
      "metadata": {
        "id": "aQXDo7u-4-18",
        "outputId": "d02c1b36-7980-4293-8168-c3d350b08205",
        "colab": {
          "base_uri": "https://localhost:8080/",
          "height": 105
        }
      },
      "execution_count": null,
      "outputs": [
        {
          "output_type": "stream",
          "name": "stdout",
          "text": [
            "대한민국\n",
            "화이팅!\n",
            "화이팅!화이팅!화이팅!화이팅!화이팅!화이팅!화이팅!화이팅!화이팅!화이팅!\n",
            "화이팅 10번 합시다:  화이팅!화이팅!화이팅!화이팅!화이팅!화이팅!화이팅!화이팅!화이팅!화이팅!\n"
          ]
        },
        {
          "output_type": "execute_result",
          "data": {
            "text/plain": [
              "'화이팅!'"
            ],
            "application/vnd.google.colaboratory.intrinsic+json": {
              "type": "string"
            }
          },
          "metadata": {},
          "execution_count": 37
        }
      ]
    },
    {
      "cell_type": "code",
      "source": [
        "print(a2)\n",
        "print(\"=\"*30)\n",
        "a1=random.randint(1,10)\n",
        "print(\"Random integer between 1 and 10:\", a1)"
      ],
      "metadata": {
        "colab": {
          "base_uri": "https://localhost:8080/"
        },
        "id": "0jdQu65F2ZWw",
        "outputId": "3a5d1c38-1e5a-4df4-8b8a-e7d3b08ce48b"
      },
      "execution_count": null,
      "outputs": [
        {
          "output_type": "stream",
          "name": "stdout",
          "text": [
            "화이팅!\n",
            "==============================\n",
            "Random integer between 1 and 10: 7\n"
          ]
        }
      ]
    },
    {
      "cell_type": "markdown",
      "source": [
        "☺️DIY: \n",
        "**Q: John and Mary have been together for many days. Ask Mary how many days it has been since she met John. Then you tell Mary how many hours it has been since she met John.**\n",
        "\n",
        "1. Set the variable 'day' to 24\n",
        "2. Set the variable 'num_day' for the input from the user. Get a number (number of days) from the user using input() function\n",
        "2. Calculate days to hours: set the variable 'hours' to the final result."
      ],
      "metadata": {
        "id": "cvkWAvetFtSP"
      }
    },
    {
      "cell_type": "code",
      "source": [
        "day = \n",
        "num_day = \n",
        "hours = \n",
        "print(\"The total hours passed since Mary met John are: \", hours, \"hours.\")"
      ],
      "metadata": {
        "id": "Fdezo9WD1zju",
        "outputId": "174b66de-637f-420b-f218-3dbcf86e8f5b",
        "colab": {
          "base_uri": "https://localhost:8080/"
        }
      },
      "execution_count": null,
      "outputs": [
        {
          "output_type": "stream",
          "name": "stdout",
          "text": [
            "How many days? 23\n",
            "The total hours passed since Mary met John are:  552 hours.\n"
          ]
        }
      ]
    },
    {
      "cell_type": "markdown",
      "source": [
        "#[2] String manipulation: strip() and .lower().\n",
        "\n"
      ],
      "metadata": {
        "id": "zzkVAfU61HDk"
      }
    },
    {
      "cell_type": "markdown",
      "source": [
        "### **data.strip()**\n",
        "\n",
        "+ In Python, strip() is a built-in string method that returns a copy of the string with leading and trailing characters removed. \n",
        "+ By default, strip() removes whitespace characters such as spaces, tabs, and newlines from the beginning and end of the string."
      ],
      "metadata": {
        "id": "sSi_PvE5LTeC"
      }
    },
    {
      "cell_type": "code",
      "source": [
        "w1 = \" Mary is friendly. \"\n",
        "w1"
      ],
      "metadata": {
        "colab": {
          "base_uri": "https://localhost:8080/",
          "height": 35
        },
        "id": "IUtU-qG81XIt",
        "outputId": "e220311b-615a-4482-fcf3-989e2bcf0a26"
      },
      "execution_count": null,
      "outputs": [
        {
          "output_type": "execute_result",
          "data": {
            "text/plain": [
              "' Mary is friendly. '"
            ],
            "application/vnd.google.colaboratory.intrinsic+json": {
              "type": "string"
            }
          },
          "metadata": {},
          "execution_count": 46
        }
      ]
    },
    {
      "cell_type": "code",
      "source": [
        "w1.strip()"
      ],
      "metadata": {
        "colab": {
          "base_uri": "https://localhost:8080/",
          "height": 35
        },
        "id": "ZAhdPbqVKr6e",
        "outputId": "cd233fa9-fd66-4f89-da29-02e5f8e8ddf7"
      },
      "execution_count": null,
      "outputs": [
        {
          "output_type": "execute_result",
          "data": {
            "text/plain": [
              "'Mary is friendly.'"
            ],
            "application/vnd.google.colaboratory.intrinsic+json": {
              "type": "string"
            }
          },
          "metadata": {},
          "execution_count": 47
        }
      ]
    },
    {
      "cell_type": "markdown",
      "source": [
        "### **data.split()**"
      ],
      "metadata": {
        "id": "JGPdtmu8MFgv"
      }
    },
    {
      "cell_type": "code",
      "source": [
        "w1 = \"Mary is friendly.\"\n",
        "w1.split()"
      ],
      "metadata": {
        "colab": {
          "base_uri": "https://localhost:8080/"
        },
        "id": "xbF1sJB9MIpw",
        "outputId": "b9175d5c-0146-44ee-a8dc-9e11d71cdbd9"
      },
      "execution_count": null,
      "outputs": [
        {
          "output_type": "execute_result",
          "data": {
            "text/plain": [
              "['Mary', 'is', 'friendly.']"
            ]
          },
          "metadata": {},
          "execution_count": 48
        }
      ]
    },
    {
      "cell_type": "code",
      "source": [
        "w2 = \"out-of-date\"\n",
        "w2.split('-')"
      ],
      "metadata": {
        "colab": {
          "base_uri": "https://localhost:8080/"
        },
        "id": "IudKgTjkMVQP",
        "outputId": "fffcbccf-0217-466c-bcc2-d35131bd60c7"
      },
      "execution_count": null,
      "outputs": [
        {
          "output_type": "execute_result",
          "data": {
            "text/plain": [
              "['out', 'of', 'date']"
            ]
          },
          "metadata": {},
          "execution_count": 49
        }
      ]
    },
    {
      "cell_type": "code",
      "source": [
        "w1 = \"Mary\"\n",
        "w2 = \"is\"\n",
        "w3 = \"friendly\""
      ],
      "metadata": {
        "id": "tGBOKKKtLvj7"
      },
      "execution_count": null,
      "outputs": []
    },
    {
      "cell_type": "code",
      "source": [
        "wordlist = [w1, w2, w3]\n",
        "wordlist"
      ],
      "metadata": {
        "colab": {
          "base_uri": "https://localhost:8080/"
        },
        "id": "c11AXGr0V_a4",
        "outputId": "f5a0b40c-c834-4888-c9fa-b243ac79243e"
      },
      "execution_count": null,
      "outputs": [
        {
          "output_type": "execute_result",
          "data": {
            "text/plain": [
              "['Mary', 'is', 'friendly']"
            ]
          },
          "metadata": {},
          "execution_count": 51
        }
      ]
    },
    {
      "cell_type": "markdown",
      "source": [
        "### **' '.join()**"
      ],
      "metadata": {
        "id": "Mb-LFWWPWn08"
      }
    },
    {
      "cell_type": "code",
      "source": [
        "' '.join(wordlist)"
      ],
      "metadata": {
        "colab": {
          "base_uri": "https://localhost:8080/",
          "height": 35
        },
        "id": "tZA7DsPPWGmA",
        "outputId": "90221f13-9bd2-40de-da6a-de32c074fb58"
      },
      "execution_count": null,
      "outputs": [
        {
          "output_type": "execute_result",
          "data": {
            "text/plain": [
              "'Mary is friendly'"
            ],
            "application/vnd.google.colaboratory.intrinsic+json": {
              "type": "string"
            }
          },
          "metadata": {},
          "execution_count": 52
        }
      ]
    },
    {
      "cell_type": "code",
      "source": [
        "'-'.join(wordlist)"
      ],
      "metadata": {
        "colab": {
          "base_uri": "https://localhost:8080/",
          "height": 35
        },
        "id": "EjLtWSL5WdYy",
        "outputId": "4ce99690-92b2-4ac7-b8c2-ee45569c21fe"
      },
      "execution_count": null,
      "outputs": [
        {
          "output_type": "execute_result",
          "data": {
            "text/plain": [
              "'Mary-is-friendly'"
            ],
            "application/vnd.google.colaboratory.intrinsic+json": {
              "type": "string"
            }
          },
          "metadata": {},
          "execution_count": 53
        }
      ]
    },
    {
      "cell_type": "markdown",
      "source": [
        "### **data.lower(), data.upper()**"
      ],
      "metadata": {
        "id": "PgCIMbbcL29X"
      }
    },
    {
      "cell_type": "code",
      "source": [
        "w1.lower()"
      ],
      "metadata": {
        "colab": {
          "base_uri": "https://localhost:8080/",
          "height": 35
        },
        "id": "JGqTVM22MuH0",
        "outputId": "118e59a5-ab1a-4271-98b6-5e38fd509488"
      },
      "execution_count": null,
      "outputs": [
        {
          "output_type": "execute_result",
          "data": {
            "text/plain": [
              "'mary'"
            ],
            "application/vnd.google.colaboratory.intrinsic+json": {
              "type": "string"
            }
          },
          "metadata": {},
          "execution_count": 54
        }
      ]
    },
    {
      "cell_type": "code",
      "source": [
        "w1.upper()"
      ],
      "metadata": {
        "colab": {
          "base_uri": "https://localhost:8080/",
          "height": 35
        },
        "id": "fP2lBss3Myhq",
        "outputId": "7b93479c-d868-4f9d-d120-456ed03398a4"
      },
      "execution_count": null,
      "outputs": [
        {
          "output_type": "execute_result",
          "data": {
            "text/plain": [
              "'MARY'"
            ],
            "application/vnd.google.colaboratory.intrinsic+json": {
              "type": "string"
            }
          },
          "metadata": {},
          "execution_count": 55
        }
      ]
    },
    {
      "cell_type": "markdown",
      "source": [
        "string index"
      ],
      "metadata": {
        "id": "yZJk2NtCM_oz"
      }
    },
    {
      "cell_type": "code",
      "source": [
        "len(w1) #number of string"
      ],
      "metadata": {
        "colab": {
          "base_uri": "https://localhost:8080/"
        },
        "id": "HmuiXLZSNGNa",
        "outputId": "a04863f4-d425-4cca-ae44-b0b8506c2910"
      },
      "execution_count": null,
      "outputs": [
        {
          "output_type": "execute_result",
          "data": {
            "text/plain": [
              "4"
            ]
          },
          "metadata": {},
          "execution_count": 56
        }
      ]
    },
    {
      "cell_type": "code",
      "source": [
        "w1[0] #1st string"
      ],
      "metadata": {
        "colab": {
          "base_uri": "https://localhost:8080/",
          "height": 35
        },
        "id": "xiyozLYxM6xk",
        "outputId": "b87c69f9-889e-4473-b142-33ef06d35790"
      },
      "execution_count": null,
      "outputs": [
        {
          "output_type": "execute_result",
          "data": {
            "text/plain": [
              "'M'"
            ],
            "application/vnd.google.colaboratory.intrinsic+json": {
              "type": "string"
            }
          },
          "metadata": {},
          "execution_count": 57
        }
      ]
    },
    {
      "cell_type": "code",
      "source": [
        "w1[-1]"
      ],
      "metadata": {
        "colab": {
          "base_uri": "https://localhost:8080/",
          "height": 35
        },
        "id": "AY_Ii7FhNeof",
        "outputId": "4cda0399-33ee-42f3-bf12-9f6aa11cd329"
      },
      "execution_count": null,
      "outputs": [
        {
          "output_type": "execute_result",
          "data": {
            "text/plain": [
              "'y'"
            ],
            "application/vnd.google.colaboratory.intrinsic+json": {
              "type": "string"
            }
          },
          "metadata": {},
          "execution_count": 58
        }
      ]
    },
    {
      "cell_type": "code",
      "source": [
        "w1[0:]"
      ],
      "metadata": {
        "id": "vhfF3iXwNijx"
      },
      "execution_count": null,
      "outputs": []
    },
    {
      "cell_type": "code",
      "source": [
        "w1[:]"
      ],
      "metadata": {
        "id": "pW4m0FoyNlf4"
      },
      "execution_count": null,
      "outputs": []
    },
    {
      "cell_type": "code",
      "source": [
        "w1[1:3]"
      ],
      "metadata": {
        "id": "tgp9ozDdNpwd"
      },
      "execution_count": null,
      "outputs": []
    },
    {
      "cell_type": "code",
      "source": [
        "w = \"mary\"\n",
        "w[0:-1]"
      ],
      "metadata": {
        "id": "0Su3TuHfPxwh"
      },
      "execution_count": null,
      "outputs": []
    },
    {
      "cell_type": "markdown",
      "source": [
        "☺️ DIY: Convert a statement to a yes-no question (e.g., Mary is smart. Tom is smiling. Jane is late.)"
      ],
      "metadata": {
        "id": "lGVkVdCLNMz0"
      }
    },
    {
      "cell_type": "code",
      "source": [
        "w1 = \"Mary\"; w2 = \"is\"; w3 = \"friendly.\""
      ],
      "metadata": {
        "id": "nz1VNUviNXaJ"
      },
      "execution_count": null,
      "outputs": []
    }
  ]
}