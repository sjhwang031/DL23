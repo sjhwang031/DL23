{
  "nbformat": 4,
  "nbformat_minor": 0,
  "metadata": {
    "colab": {
      "provenance": [],
      "include_colab_link": true
    },
    "kernelspec": {
      "name": "python3",
      "display_name": "Python 3"
    },
    "language_info": {
      "name": "python"
    }
  },
  "cells": [
    {
      "cell_type": "markdown",
      "metadata": {
        "id": "view-in-github",
        "colab_type": "text"
      },
      "source": [
        "<a href=\"https://colab.research.google.com/github/sjhwang031/DL23/blob/main/DL/DL_Assign01.ipynb\" target=\"_parent\"><img src=\"https://colab.research.google.com/assets/colab-badge.svg\" alt=\"Open In Colab\"/></a>"
      ]
    },
    {
      "cell_type": "markdown",
      "source": [
        "# 🍎 Digital Literacy Assignment #1: Create your gTTS tool\n",
        "\n",
        "* ⏰ Due by Mar. 28 (closed in the midnight)\n",
        "\n",
        "🍀 [Reference page](https://github.com/MK316/Spring2023/blob/main/DL/DLW02a.ipynb)\n",
        "\n",
        "**🍀 Instruction:**\n",
        "\n",
        "1. Complete each code cell with the corresponding code (refer to our class material)\n",
        "\n",
        "2. Add Korean description in each Text cell.\n",
        "3. Make sure your codes are running without fail.\n",
        "4. Save a copy in your Github account (File > Save a copy in Github)"
      ],
      "metadata": {
        "id": "UoWEbKxq6ZrP"
      }
    },
    {
      "cell_type": "markdown",
      "source": [
        "## Step 1. Install gTTS\n",
        "## 1단계. gTTS 설치하기"
      ],
      "metadata": {
        "id": "HtepnsUe6edl"
      }
    },
    {
      "cell_type": "code",
      "source": [
        "!pip install gTTS"
      ],
      "metadata": {
        "colab": {
          "base_uri": "https://localhost:8080/"
        },
        "id": "-Cv4upgeD1U5",
        "outputId": "0fcfb359-00b7-4c8e-dca8-3f41d96564fb"
      },
      "execution_count": 7,
      "outputs": [
        {
          "output_type": "stream",
          "name": "stdout",
          "text": [
            "Looking in indexes: https://pypi.org/simple, https://us-python.pkg.dev/colab-wheels/public/simple/\n",
            "Requirement already satisfied: gTTS in /usr/local/lib/python3.9/dist-packages (2.3.1)\n",
            "Requirement already satisfied: click<8.2,>=7.1 in /usr/local/lib/python3.9/dist-packages (from gTTS) (8.1.3)\n",
            "Requirement already satisfied: requests<3,>=2.27 in /usr/local/lib/python3.9/dist-packages (from gTTS) (2.27.1)\n",
            "Requirement already satisfied: idna<4,>=2.5 in /usr/local/lib/python3.9/dist-packages (from requests<3,>=2.27->gTTS) (3.4)\n",
            "Requirement already satisfied: urllib3<1.27,>=1.21.1 in /usr/local/lib/python3.9/dist-packages (from requests<3,>=2.27->gTTS) (1.26.15)\n",
            "Requirement already satisfied: charset-normalizer~=2.0.0 in /usr/local/lib/python3.9/dist-packages (from requests<3,>=2.27->gTTS) (2.0.12)\n",
            "Requirement already satisfied: certifi>=2017.4.17 in /usr/local/lib/python3.9/dist-packages (from requests<3,>=2.27->gTTS) (2022.12.7)\n"
          ]
        }
      ]
    },
    {
      "cell_type": "markdown",
      "source": [
        "## Step 2. Import necessary libraries {gTTS} {Audio}\n",
        "## 2단계. 필요한 라이브러리 가져오기 {gTTS} {Audio}"
      ],
      "metadata": {
        "id": "ueGlOrC16jk8"
      }
    },
    {
      "cell_type": "code",
      "source": [
        "!pip install gTTS\n",
        "from gtts import gTTS\n",
        "from IPython.display import Audio"
      ],
      "metadata": {
        "id": "c1c0otTB6qP9",
        "colab": {
          "base_uri": "https://localhost:8080/"
        },
        "outputId": "59733b57-a322-40c9-92e9-a23a2fa1b7ef"
      },
      "execution_count": 6,
      "outputs": [
        {
          "output_type": "stream",
          "name": "stdout",
          "text": [
            "Looking in indexes: https://pypi.org/simple, https://us-python.pkg.dev/colab-wheels/public/simple/\n",
            "Requirement already satisfied: gTTS in /usr/local/lib/python3.9/dist-packages (2.3.1)\n",
            "Requirement already satisfied: requests<3,>=2.27 in /usr/local/lib/python3.9/dist-packages (from gTTS) (2.27.1)\n",
            "Requirement already satisfied: click<8.2,>=7.1 in /usr/local/lib/python3.9/dist-packages (from gTTS) (8.1.3)\n",
            "Requirement already satisfied: urllib3<1.27,>=1.21.1 in /usr/local/lib/python3.9/dist-packages (from requests<3,>=2.27->gTTS) (1.26.15)\n",
            "Requirement already satisfied: certifi>=2017.4.17 in /usr/local/lib/python3.9/dist-packages (from requests<3,>=2.27->gTTS) (2022.12.7)\n",
            "Requirement already satisfied: idna<4,>=2.5 in /usr/local/lib/python3.9/dist-packages (from requests<3,>=2.27->gTTS) (3.4)\n",
            "Requirement already satisfied: charset-normalizer~=2.0.0 in /usr/local/lib/python3.9/dist-packages (from requests<3,>=2.27->gTTS) (2.0.12)\n"
          ]
        }
      ]
    },
    {
      "cell_type": "markdown",
      "source": [
        "## Step 3. Define tts(text)\n",
        "## 3단계. tts(텍스트) 정의하기\n",
        "\n",
        "**def tts(text):**\n",
        "\n",
        "- This line defines a function called tts that takes a text argument. The purpose of this function is to convert the given text into an audio file.\n",
        "-이 줄은 텍스트 인수를 사용하는 tts라는 함수를 정의합니다. 이 기능의 목적은 주어진 텍스트를 오디오 파일로 변환하는 것입니다.\n",
        "\n",
        "**gtts_object = gTTS(text,lang = \"en\", slow = True)**\n",
        "\n",
        "- This line creates a new gTTS object with the given text, specifying the language as English and the speech speed as slow.\n",
        "-이 줄은 주어진 텍스트로 새 gTTS 개체를 만들어 언어를 영어로 특정하고 음성 속도를 느리게 만듭니다.\n",
        "\n",
        "**gtts_object.save(\"myaudio.mp3\")**\n",
        "\n",
        "- This line saves the audio file generated by the gTTS object to the file \"myaudio.mp3\" on the local filesystem.\n",
        "- 이 줄은 gTTS 개체에 의해 생성된 오디오 파일을 로컬 파일시스템의 \"myaudio.mp3\" 파일에 저장합니다.\n",
        "\n",
        "**return Audio(\"myaudio.mp3\")**\n",
        "\n",
        "- This line returns an Audio object representing the audio file that was just saved. The Audio object can be used to play the audio file or manipulate it in various ways.\n",
        "-이 줄은 방금 저장된 오디오 파일을 나타내는 오디오 개체를 돌려보냅니다. 오디오 개체는 오디오 파일을 재생하거나 다양한 방법으로 조작하는 데 사용할 수 있습니다."
      ],
      "metadata": {
        "id": "F0TiGWg66qqR"
      }
    },
    {
      "cell_type": "code",
      "source": [
        "def tts(text):\n",
        "  gtts_object = gTTS(text,lang = \"en\", slow = True) \n",
        "  gtts_object.save(\"myaudio.mp3\")\n",
        "  return Audio(\"myaudio.mp3\")"
      ],
      "metadata": {
        "id": "81Bf1mKS63zO"
      },
      "execution_count": 8,
      "outputs": []
    },
    {
      "cell_type": "markdown",
      "source": [
        "🌱 Try tts(text) function\n",
        "🌱 tts(텍스트) 함수를 사용해보기\n",
        "\n",
        "**tts('Hello students')**\n",
        "\n",
        "- This line of code invokes the tts function with the argument 'Hello students'. This will generate an audio file containing the speech corresponding to the text \"Hello students\" in English language spoken at a slow speed. The audio file will be saved on the local file system with the name \"myaudio.mp3\".\n",
        "\n",
        "-이 코드 줄은 'Hello students' 인수로 tts 함수를 호출합니다. 이렇게 하면 느린 속도로 사용되는 영어로 \"안녕하세요 학생 여러분\" 텍스트에 해당하는 음성이 포함된 오디오 파일이 생성됩니다. 오디오 파일은 \"myaudio.mp3\"라는 이름으로 로컬 파일 시스템에 저장됩니다."
      ],
      "metadata": {
        "id": "n2de5x_X7JiU"
      }
    },
    {
      "cell_type": "code",
      "source": [
        "tts('Hello students')"
      ],
      "metadata": {
        "id": "D9JYUbsS8GmQ",
        "colab": {
          "base_uri": "https://localhost:8080/",
          "height": 74
        },
        "outputId": "5b30c784-f1a4-47d8-a828-5a94ee16748b"
      },
      "execution_count": 9,
      "outputs": [
        {
          "output_type": "execute_result",
          "data": {
            "text/plain": [
              "<IPython.lib.display.Audio object>"
            ],
            "text/html": [
              "\n",
              "                <audio  controls=\"controls\" >\n",
              "                    <source src=\"data:audio/mpeg;base64,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\" type=\"audio/mpeg\" />\n",
              "                    Your browser does not support the audio element.\n",
              "                </audio>\n",
              "              "
            ]
          },
          "metadata": {},
          "execution_count": 9
        }
      ]
    },
    {
      "cell_type": "markdown",
      "source": [
        "# Using **input( )**\n",
        "\n",
        "- In Python, input() is a built-in function that is used to get input from the user via the console. The input() function displays a prompt on the console, waits for the user to enter some text, and then returns the text entered by the user as a string.\n",
        "- Python에서 input()은 콘솔을 통해 사용자로부터 입력을 받는 데 사용되는 내장 함수입니다. input() 함수는 콘솔에 프롬프트를 표시하고 사용자가 일부 텍스트를 입력할 때까지 기다린 다음 사용자가 입력한 텍스트를 문자열로 반환합니다.\n",
        "\n",
        "- The syntax of the input() function is simple. It takes an optional string argument that is displayed as a prompt to the user, and then waits for the user to enter some text. \n",
        "-input() 함수의 구문은 간단합니다. 사용자에게 프롬프트로 표시되는 선택적 문자열 인수를 사용한 다음 사용자가 일부 텍스트를 입력할 때까지 기다립니다."
      ],
      "metadata": {
        "id": "uH5dejPx8VEx"
      }
    },
    {
      "cell_type": "code",
      "source": [
        "name = input(\"What is your name? \")"
      ],
      "metadata": {
        "id": "E80B8KuX8fdX",
        "colab": {
          "base_uri": "https://localhost:8080/"
        },
        "outputId": "506c8b41-db5e-443f-e4e5-2535ab1a7040"
      },
      "execution_count": 12,
      "outputs": [
        {
          "name": "stdout",
          "output_type": "stream",
          "text": [
            "What is your name? Mary\n"
          ]
        }
      ]
    },
    {
      "cell_type": "code",
      "source": [
        "print(name)"
      ],
      "metadata": {
        "id": "zS9y6Smm-WSx",
        "colab": {
          "base_uri": "https://localhost:8080/"
        },
        "outputId": "2bb238c2-cd98-461c-fba2-2c2b74b1da0a"
      },
      "execution_count": 13,
      "outputs": [
        {
          "output_type": "stream",
          "name": "stdout",
          "text": [
            "Mary\n"
          ]
        }
      ]
    }
  ]
}