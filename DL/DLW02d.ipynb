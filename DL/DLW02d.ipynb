{
  "nbformat": 4,
  "nbformat_minor": 0,
  "metadata": {
    "colab": {
      "provenance": [],
      "include_colab_link": true
    },
    "kernelspec": {
      "name": "python3",
      "display_name": "Python 3"
    },
    "language_info": {
      "name": "python"
    }
  },
  "cells": [
    {
      "cell_type": "markdown",
      "metadata": {
        "id": "view-in-github",
        "colab_type": "text"
      },
      "source": [
        "<a href=\"https://colab.research.google.com/github/sjhwang031/DL23/blob/main/DL/DLW02d.ipynb\" target=\"_parent\"><img src=\"https://colab.research.google.com/assets/colab-badge.svg\" alt=\"Open In Colab\"/></a>"
      ]
    },
    {
      "cell_type": "markdown",
      "source": [
        "---\n",
        "# 📗 Topic [2]: Coding basic #2\n",
        "---\n",
        "Keywords:\n",
        "\n",
        "+ variables\n",
        "+ **operators**\n",
        "+ **data types: list and dictionary**"
      ],
      "metadata": {
        "id": "k4A5_MYHpcNQ"
      }
    },
    {
      "cell_type": "markdown",
      "source": [
        "Your github IDs [here](https://docs.google.com/spreadsheets/d/17SX51lCqOdtvC7cAGoX5tP9fKwVdGY5sRzMg2pXh9uk/edit#gid=0) - revised 0327"
      ],
      "metadata": {
        "id": "mUVgzk50XMkt"
      }
    },
    {
      "cell_type": "markdown",
      "source": [
        "## [1] Variables 변수\n"
      ],
      "metadata": {
        "id": "93gQaEo1RX63"
      }
    },
    {
      "cell_type": "markdown",
      "source": [
        "+ **A variable** is a named storage location that holds a value.\n",
        "+ Variables can be used **to store values** such as numbers, strings, lists, or other data types. \n",
        "+ The value of a variable can change throughout the execution of a program. \n",
        "+ To declare a variable in Python, you need to assign a value to it using the **equal (=) sign.**"
      ],
      "metadata": {
        "id": "jJT4hD1teuJr"
      }
    },
    {
      "cell_type": "code",
      "source": [
        "x = 10\n",
        "y = \"Hello, class!\"\n",
        "z = [1, 2, 3]"
      ],
      "metadata": {
        "id": "Xes87bY2X45M"
      },
      "execution_count": null,
      "outputs": []
    },
    {
      "cell_type": "markdown",
      "source": [
        "↗️ In the above example, 'x' is assigned the value of 10, 'y' is assigned the value of \"Hello, World!\", and 'z' is assigned the value of [1, 2, 3]."
      ],
      "metadata": {
        "id": "ulw6QsP5ZiKp"
      }
    },
    {
      "cell_type": "code",
      "source": [
        "# We can assign a link or a function\n",
        "import pandas as pd\n",
        "url = \"https://github.com/MK316/Spring2023/raw/main/data/att_sample.csv\"\n",
        "data = pd.read_csv(url)\n",
        "data"
      ],
      "metadata": {
        "id": "_7bvpJt2aQmg",
        "outputId": "5901fba4-458f-41c8-ac92-b73b82dd35b1",
        "colab": {
          "base_uri": "https://localhost:8080/",
          "height": 488
        }
      },
      "execution_count": null,
      "outputs": [
        {
          "output_type": "execute_result",
          "data": {
            "text/plain": [
              "      Names\n",
              "0      Mary\n",
              "1      John\n",
              "2       Tim\n",
              "3       Bob\n",
              "4     Sarah\n",
              "5      Kate\n",
              "6     Marie\n",
              "7   Johnson\n",
              "8      Mike\n",
              "9     Harry\n",
              "10      Jin\n",
              "11      Sam\n",
              "12     Paul\n",
              "13  Natalie"
            ],
            "text/html": [
              "\n",
              "  <div id=\"df-9fbbe107-a66a-4168-a51d-0f1843fe9474\">\n",
              "    <div class=\"colab-df-container\">\n",
              "      <div>\n",
              "<style scoped>\n",
              "    .dataframe tbody tr th:only-of-type {\n",
              "        vertical-align: middle;\n",
              "    }\n",
              "\n",
              "    .dataframe tbody tr th {\n",
              "        vertical-align: top;\n",
              "    }\n",
              "\n",
              "    .dataframe thead th {\n",
              "        text-align: right;\n",
              "    }\n",
              "</style>\n",
              "<table border=\"1\" class=\"dataframe\">\n",
              "  <thead>\n",
              "    <tr style=\"text-align: right;\">\n",
              "      <th></th>\n",
              "      <th>Names</th>\n",
              "    </tr>\n",
              "  </thead>\n",
              "  <tbody>\n",
              "    <tr>\n",
              "      <th>0</th>\n",
              "      <td>Mary</td>\n",
              "    </tr>\n",
              "    <tr>\n",
              "      <th>1</th>\n",
              "      <td>John</td>\n",
              "    </tr>\n",
              "    <tr>\n",
              "      <th>2</th>\n",
              "      <td>Tim</td>\n",
              "    </tr>\n",
              "    <tr>\n",
              "      <th>3</th>\n",
              "      <td>Bob</td>\n",
              "    </tr>\n",
              "    <tr>\n",
              "      <th>4</th>\n",
              "      <td>Sarah</td>\n",
              "    </tr>\n",
              "    <tr>\n",
              "      <th>5</th>\n",
              "      <td>Kate</td>\n",
              "    </tr>\n",
              "    <tr>\n",
              "      <th>6</th>\n",
              "      <td>Marie</td>\n",
              "    </tr>\n",
              "    <tr>\n",
              "      <th>7</th>\n",
              "      <td>Johnson</td>\n",
              "    </tr>\n",
              "    <tr>\n",
              "      <th>8</th>\n",
              "      <td>Mike</td>\n",
              "    </tr>\n",
              "    <tr>\n",
              "      <th>9</th>\n",
              "      <td>Harry</td>\n",
              "    </tr>\n",
              "    <tr>\n",
              "      <th>10</th>\n",
              "      <td>Jin</td>\n",
              "    </tr>\n",
              "    <tr>\n",
              "      <th>11</th>\n",
              "      <td>Sam</td>\n",
              "    </tr>\n",
              "    <tr>\n",
              "      <th>12</th>\n",
              "      <td>Paul</td>\n",
              "    </tr>\n",
              "    <tr>\n",
              "      <th>13</th>\n",
              "      <td>Natalie</td>\n",
              "    </tr>\n",
              "  </tbody>\n",
              "</table>\n",
              "</div>\n",
              "      <button class=\"colab-df-convert\" onclick=\"convertToInteractive('df-9fbbe107-a66a-4168-a51d-0f1843fe9474')\"\n",
              "              title=\"Convert this dataframe to an interactive table.\"\n",
              "              style=\"display:none;\">\n",
              "        \n",
              "  <svg xmlns=\"http://www.w3.org/2000/svg\" height=\"24px\"viewBox=\"0 0 24 24\"\n",
              "       width=\"24px\">\n",
              "    <path d=\"M0 0h24v24H0V0z\" fill=\"none\"/>\n",
              "    <path d=\"M18.56 5.44l.94 2.06.94-2.06 2.06-.94-2.06-.94-.94-2.06-.94 2.06-2.06.94zm-11 1L8.5 8.5l.94-2.06 2.06-.94-2.06-.94L8.5 2.5l-.94 2.06-2.06.94zm10 10l.94 2.06.94-2.06 2.06-.94-2.06-.94-.94-2.06-.94 2.06-2.06.94z\"/><path d=\"M17.41 7.96l-1.37-1.37c-.4-.4-.92-.59-1.43-.59-.52 0-1.04.2-1.43.59L10.3 9.45l-7.72 7.72c-.78.78-.78 2.05 0 2.83L4 21.41c.39.39.9.59 1.41.59.51 0 1.02-.2 1.41-.59l7.78-7.78 2.81-2.81c.8-.78.8-2.07 0-2.86zM5.41 20L4 18.59l7.72-7.72 1.47 1.35L5.41 20z\"/>\n",
              "  </svg>\n",
              "      </button>\n",
              "      \n",
              "  <style>\n",
              "    .colab-df-container {\n",
              "      display:flex;\n",
              "      flex-wrap:wrap;\n",
              "      gap: 12px;\n",
              "    }\n",
              "\n",
              "    .colab-df-convert {\n",
              "      background-color: #E8F0FE;\n",
              "      border: none;\n",
              "      border-radius: 50%;\n",
              "      cursor: pointer;\n",
              "      display: none;\n",
              "      fill: #1967D2;\n",
              "      height: 32px;\n",
              "      padding: 0 0 0 0;\n",
              "      width: 32px;\n",
              "    }\n",
              "\n",
              "    .colab-df-convert:hover {\n",
              "      background-color: #E2EBFA;\n",
              "      box-shadow: 0px 1px 2px rgba(60, 64, 67, 0.3), 0px 1px 3px 1px rgba(60, 64, 67, 0.15);\n",
              "      fill: #174EA6;\n",
              "    }\n",
              "\n",
              "    [theme=dark] .colab-df-convert {\n",
              "      background-color: #3B4455;\n",
              "      fill: #D2E3FC;\n",
              "    }\n",
              "\n",
              "    [theme=dark] .colab-df-convert:hover {\n",
              "      background-color: #434B5C;\n",
              "      box-shadow: 0px 1px 3px 1px rgba(0, 0, 0, 0.15);\n",
              "      filter: drop-shadow(0px 1px 2px rgba(0, 0, 0, 0.3));\n",
              "      fill: #FFFFFF;\n",
              "    }\n",
              "  </style>\n",
              "\n",
              "      <script>\n",
              "        const buttonEl =\n",
              "          document.querySelector('#df-9fbbe107-a66a-4168-a51d-0f1843fe9474 button.colab-df-convert');\n",
              "        buttonEl.style.display =\n",
              "          google.colab.kernel.accessAllowed ? 'block' : 'none';\n",
              "\n",
              "        async function convertToInteractive(key) {\n",
              "          const element = document.querySelector('#df-9fbbe107-a66a-4168-a51d-0f1843fe9474');\n",
              "          const dataTable =\n",
              "            await google.colab.kernel.invokeFunction('convertToInteractive',\n",
              "                                                     [key], {});\n",
              "          if (!dataTable) return;\n",
              "\n",
              "          const docLinkHtml = 'Like what you see? Visit the ' +\n",
              "            '<a target=\"_blank\" href=https://colab.research.google.com/notebooks/data_table.ipynb>data table notebook</a>'\n",
              "            + ' to learn more about interactive tables.';\n",
              "          element.innerHTML = '';\n",
              "          dataTable['output_type'] = 'display_data';\n",
              "          await google.colab.output.renderOutput(dataTable, element);\n",
              "          const docLink = document.createElement('div');\n",
              "          docLink.innerHTML = docLinkHtml;\n",
              "          element.appendChild(docLink);\n",
              "        }\n",
              "      </script>\n",
              "    </div>\n",
              "  </div>\n",
              "  "
            ]
          },
          "metadata": {},
          "execution_count": 2
        }
      ]
    },
    {
      "cell_type": "markdown",
      "source": [
        "## Commenting '#' / '#'<< 메모용(코딩에 지장없음)\n",
        "\n",
        "- In Python, the # symbol is used to indicate comment lines. A comment is a line of text in a code that is ignored by the Python interpreter and is used to provide explanations or notes for the reader of the code.\n",
        "\n",
        "## Uncommenting shortcut: / #단축키: Ctrl + /\n",
        "* \"Ctrl + /\" (Place the cursor on the code line and press the Control + / key.)"
      ],
      "metadata": {
        "id": "xZv9R8I8ZWvt"
      }
    },
    {
      "cell_type": "code",
      "source": [
        "# This is a comment in Python\n",
        "# x = 10 # this is also a comment "
      ],
      "metadata": {
        "id": "7UJmbmmTaFx9"
      },
      "execution_count": null,
      "outputs": []
    },
    {
      "cell_type": "code",
      "source": [
        "x1 = x * 10\n",
        "x2 = x + 5\n",
        "\n",
        "#print(x1) # Print the value of x1\n",
        "# print(x1, x2) # Print the values of x1 and x2"
      ],
      "metadata": {
        "id": "Ivc72tB0X_TS",
        "outputId": "c8a1c3f0-fc3f-4f6b-ac01-1337fa4b8e28",
        "colab": {
          "base_uri": "https://localhost:8080/"
        }
      },
      "execution_count": null,
      "outputs": [
        {
          "output_type": "stream",
          "name": "stdout",
          "text": [
            "20 7\n"
          ]
        }
      ]
    },
    {
      "cell_type": "code",
      "source": [
        "print(y)\n",
        "y = 'hello'\n",
        "z= [3,2,1]\n",
        "y1 = y + \"Welcome to the class.\"\n",
        "z1 = z + [3,2,1]\n",
        " \n",
        "print(y1, z1)"
      ],
      "metadata": {
        "id": "cxePqv-52RU0",
        "outputId": "7ac3a13a-0c2d-4d9f-d08c-36bdfdfbee7e",
        "colab": {
          "base_uri": "https://localhost:8080/"
        }
      },
      "execution_count": null,
      "outputs": [
        {
          "output_type": "stream",
          "name": "stdout",
          "text": [
            "hello\n",
            "helloWelcome to the class. [3, 2, 1, 3, 2, 1]\n"
          ]
        }
      ]
    },
    {
      "cell_type": "markdown",
      "source": [
        "Input types:\n",
        "\n",
        "* integer: e.g., -3, 1, 0, 234, etc.\n",
        "* float: e.g., -3.0, 1.2, 0, 3.141592653589793238, etc.\n",
        "* string: (characters) \"1\", '0', \"3.29\", \"Mary\", \"euphoria\", 'My name is Jane.'\n",
        "\n",
        "_Note:_ double or single quotation marks denote **string** data. (Open and close should match.)"
      ],
      "metadata": {
        "id": "4zDbyBHbeQsq"
      }
    },
    {
      "cell_type": "code",
      "source": [
        "# DIY\n",
        "x = 1\n",
        "y = 3\n",
        "z = x + y\n",
        "print(z)\n",
        "\n",
        "x1 = \"1\"\n",
        "y1 = \"3\"\n",
        "z1 = x1 + y1\n",
        "print(z1)"
      ],
      "metadata": {
        "colab": {
          "base_uri": "https://localhost:8080/"
        },
        "id": "yzZuC29QfP3T",
        "outputId": "c9087190-01c2-422b-9219-91cf7e2ce39d"
      },
      "execution_count": null,
      "outputs": [
        {
          "output_type": "stream",
          "name": "stdout",
          "text": [
            "4\n",
            "13\n"
          ]
        }
      ]
    },
    {
      "cell_type": "code",
      "source": [
        "type(z)"
      ],
      "metadata": {
        "colab": {
          "base_uri": "https://localhost:8080/"
        },
        "id": "qwDb8cf5fkKi",
        "outputId": "d6f7ecf6-ac13-406d-dfd2-04f501bf6aa7"
      },
      "execution_count": null,
      "outputs": [
        {
          "output_type": "execute_result",
          "data": {
            "text/plain": [
              "int"
            ]
          },
          "metadata": {},
          "execution_count": 7
        }
      ]
    },
    {
      "cell_type": "code",
      "source": [
        "type(z1)"
      ],
      "metadata": {
        "colab": {
          "base_uri": "https://localhost:8080/"
        },
        "id": "L7sxvSaOfsOt",
        "outputId": "990d0afe-d7e3-4774-e5df-0707ba90fb4f"
      },
      "execution_count": null,
      "outputs": [
        {
          "output_type": "execute_result",
          "data": {
            "text/plain": [
              "int"
            ]
          },
          "metadata": {},
          "execution_count": 36
        }
      ]
    },
    {
      "cell_type": "code",
      "source": [
        "print(type(z), type(z1))"
      ],
      "metadata": {
        "colab": {
          "base_uri": "https://localhost:8080/"
        },
        "id": "bbFaL_GWfwMH",
        "outputId": "7a8f87d7-87d7-45cf-89ed-8cb2eedb026f"
      },
      "execution_count": null,
      "outputs": [
        {
          "output_type": "stream",
          "name": "stdout",
          "text": [
            "<class 'int'> <class 'str'>\n"
          ]
        }
      ]
    },
    {
      "cell_type": "markdown",
      "source": [
        "## [2] Operators\n",
        "\n",
        "* Symbols that perform operations on values and variables. \n",
        "* They are used to perform arithmetic and logical operations, and they can also be used to manipulate and compare values. "
      ],
      "metadata": {
        "id": "5JgA2T2dRft5"
      }
    },
    {
      "cell_type": "markdown",
      "source": [
        "1. Arithmetic Operators: +, -, *, /, %, ** (for exponentiation)\n",
        "2. semicolon ';' - separate multiple statements (code lines) on a single line."
      ],
      "metadata": {
        "id": "NJBgu_O4bczL"
      }
    },
    {
      "cell_type": "code",
      "source": [
        "x = 2; y = 5\n",
        "\n",
        "a1 = x + y\n",
        "a2 = x - y\n",
        "a3 = x * y\n",
        "a4 = x / y\n",
        "a5 = x ** y"
      ],
      "metadata": {
        "id": "dXT3pIzobUHU"
      },
      "execution_count": 7,
      "outputs": []
    },
    {
      "cell_type": "code",
      "source": [
        "print(a1, a2, a3, a4, a5)"
      ],
      "metadata": {
        "colab": {
          "base_uri": "https://localhost:8080/"
        },
        "id": "_m3JBsOKd6Uv",
        "outputId": "92415e22-01be-415c-d821-8c639015fc7c"
      },
      "execution_count": null,
      "outputs": [
        {
          "output_type": "stream",
          "name": "stdout",
          "text": [
            "7 -3 10 0.4 32\n"
          ]
        }
      ]
    },
    {
      "cell_type": "code",
      "source": [
        "print(\"The value of a1:\", a1) "
      ],
      "metadata": {
        "colab": {
          "base_uri": "https://localhost:8080/"
        },
        "id": "5kq7I3nMd0Xi",
        "outputId": "0ea44c20-1246-45eb-8003-48b359b586ad"
      },
      "execution_count": null,
      "outputs": [
        {
          "output_type": "stream",
          "name": "stdout",
          "text": [
            "The value of a1: 7\n"
          ]
        }
      ]
    },
    {
      "cell_type": "markdown",
      "source": [
        "# 🌱 Define a function / 함수 정의하기\n",
        "\n",
        "Demo 🔢 Calculator"
      ],
      "metadata": {
        "id": "Cx1NyWUAybc8"
      }
    },
    {
      "cell_type": "code",
      "source": [
        "# This function adds two numbers / #def는 정의내리는거 def를 add 앞에 넣어줘서 return의 수식인 +(더하기)기능을 add가 수행하게됨!(add가 아니라 아무거나 와도 상관없음)  \n",
        "def add(x, y):\n",
        "    return x + y\n",
        "\n",
        "# This function subtracts two numbers\n",
        "def subtract(x, y):\n",
        "    return x - y\n",
        "\n",
        "# This function multiplies two numbers\n",
        "def multiply(x, y):\n",
        "    return x * y\n",
        "\n",
        "# This function divides two numbers\n",
        "def divide(x, y):\n",
        "    return x / y\n"
      ],
      "metadata": {
        "id": "Dod3_zgYdsWe"
      },
      "execution_count": 5,
      "outputs": []
    },
    {
      "cell_type": "code",
      "source": [
        "# DIY: define a function names switch(x, y), where the input x, y changes its position in the output.\n",
        "def switch(x, y):\n",
        "    return(y, x) \n"
      ],
      "metadata": {
        "id": "W9CuAaqXgwb5"
      },
      "execution_count": null,
      "outputs": []
    },
    {
      "cell_type": "code",
      "source": [
        "switch(\"it\", \"is\" )"
      ],
      "metadata": {
        "id": "VdQOLxTNaN7t",
        "outputId": "afda5582-cd67-467d-aedc-405d5ad4910e",
        "colab": {
          "base_uri": "https://localhost:8080/"
        }
      },
      "execution_count": null,
      "outputs": [
        {
          "output_type": "execute_result",
          "data": {
            "text/plain": [
              "('is', 'it')"
            ]
          },
          "metadata": {},
          "execution_count": 42
        }
      ]
    },
    {
      "cell_type": "code",
      "source": [
        "add(1200,34)"
      ],
      "metadata": {
        "id": "br8NXBwtMpMI",
        "outputId": "2e4c5c3e-602d-4934-9095-5b0a70045b82",
        "colab": {
          "base_uri": "https://localhost:8080/"
        }
      },
      "execution_count": null,
      "outputs": [
        {
          "output_type": "execute_result",
          "data": {
            "text/plain": [
              "1234"
            ]
          },
          "metadata": {},
          "execution_count": 15
        }
      ]
    },
    {
      "cell_type": "code",
      "source": [
        "# Test\n",
        "\n",
        "add(2,3)\n",
        "subtract(3,2)\n",
        "multiply(2,3)\n",
        "divide(3,2)"
      ],
      "metadata": {
        "id": "IoHh-U2GBsqH",
        "outputId": "1e5ac7c8-dc97-4a0d-e07b-fc8453046943",
        "colab": {
          "base_uri": "https://localhost:8080/"
        }
      },
      "execution_count": null,
      "outputs": [
        {
          "output_type": "execute_result",
          "data": {
            "text/plain": [
              "1.5"
            ]
          },
          "metadata": {},
          "execution_count": 16
        }
      ]
    },
    {
      "cell_type": "markdown",
      "source": [
        "## Using dropbox format"
      ],
      "metadata": {
        "id": "eOluPoNqCCE1"
      }
    },
    {
      "cell_type": "markdown",
      "source": [
        "gtts세팅"
      ],
      "metadata": {
        "id": "C_9luKy4SMmA"
      }
    },
    {
      "cell_type": "code",
      "source": [
        "!pip install gtts\n",
        "from gtts import gTTS\n",
        "from IPython.display import Audio, display\n",
        "def tts(txt):\n",
        "  tts = gTTS(txt, lang='en')\n",
        "  tts.save(\"sample.mp3\")\n",
        "  return Audio(\"/content/sample.mp3\")\n",
        "  "
      ],
      "metadata": {
        "id": "GbgAuIBiSKtE",
        "outputId": "84809623-6af7-4ff0-f777-cde7670b55a6",
        "colab": {
          "base_uri": "https://localhost:8080/"
        }
      },
      "execution_count": 15,
      "outputs": [
        {
          "output_type": "stream",
          "name": "stdout",
          "text": [
            "Looking in indexes: https://pypi.org/simple, https://us-python.pkg.dev/colab-wheels/public/simple/\n",
            "Requirement already satisfied: gtts in /usr/local/lib/python3.10/dist-packages (2.3.2)\n",
            "Requirement already satisfied: requests<3,>=2.27 in /usr/local/lib/python3.10/dist-packages (from gtts) (2.27.1)\n",
            "Requirement already satisfied: click<8.2,>=7.1 in /usr/local/lib/python3.10/dist-packages (from gtts) (8.1.3)\n",
            "Requirement already satisfied: urllib3<1.27,>=1.21.1 in /usr/local/lib/python3.10/dist-packages (from requests<3,>=2.27->gtts) (1.26.15)\n",
            "Requirement already satisfied: certifi>=2017.4.17 in /usr/local/lib/python3.10/dist-packages (from requests<3,>=2.27->gtts) (2022.12.7)\n",
            "Requirement already satisfied: charset-normalizer~=2.0.0 in /usr/local/lib/python3.10/dist-packages (from requests<3,>=2.27->gtts) (2.0.12)\n",
            "Requirement already satisfied: idna<4,>=2.5 in /usr/local/lib/python3.10/dist-packages (from requests<3,>=2.27->gtts) (3.4)\n"
          ]
        }
      ]
    },
    {
      "cell_type": "code",
      "source": [
        "mytext = input(\"Type text: \")\n",
        "tts(mytext)"
      ],
      "metadata": {
        "id": "BG8q0ce4S0cZ",
        "outputId": "3ca0e77e-cc9b-44d6-a347-805908307e39",
        "colab": {
          "base_uri": "https://localhost:8080/",
          "height": 92
        }
      },
      "execution_count": 16,
      "outputs": [
        {
          "name": "stdout",
          "output_type": "stream",
          "text": [
            "Type text: d\n"
          ]
        },
        {
          "output_type": "execute_result",
          "data": {
            "text/plain": [
              "<IPython.lib.display.Audio object>"
            ],
            "text/html": [
              "\n",
              "                <audio  controls=\"controls\" >\n",
              "                    <source src=\"data:audio/mpeg;base64,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\" type=\"audio/mpeg\" />\n",
              "                    Your browser does not support the audio element.\n",
              "                </audio>\n",
              "              "
            ]
          },
          "metadata": {},
          "execution_count": 16
        }
      ]
    },
    {
      "cell_type": "code",
      "source": [
        "#@markdown 🔄 Making functions: tts('text')\n",
        "%%capture\n",
        "!pip install gTTS\n",
        "from gtts import gTTS\n",
        "from IPython.display import Audio\n",
        "\n",
        "def tts(text):\n",
        "  text_to_say = text\n",
        "\n",
        "  gtts_object = gTTS(text = text_to_say,\n",
        "                     lang = \"en\", tld = \"us\",\n",
        "                    slow = True)\n",
        "  \n",
        "  gtts_object.save(\"E-audio.mp3\")\n",
        "  return Audio(\"E-audio.mp3\")"
      ],
      "metadata": {
        "id": "nRtyN0p6NoKA",
        "cellView": "form"
      },
      "execution_count": 1,
      "outputs": []
    },
    {
      "cell_type": "code",
      "source": [
        "func = \"add\" #@param = [\"add\",\"subtract\",\"multiply\",\"divide\"]\n",
        "digits = input(\"Type two numbers: (e.g., 3,4)\")\n",
        "digitsplit = digits.split(',')\n",
        "d1 = int(digitsplit[0])\n",
        "d2 = int(digitsplit[1])\n",
        "\n",
        "if func == \"add\":\n",
        "  result = add(d1,d2)\n",
        "  text = \"The addition of %d and %d equals %d.\"%(d1,d2,result)\n",
        "elif func == \"subtract\":\n",
        "  result = subtract(d1,d2)\n",
        "  text = \"If you subtract %d from %d, you get %d.\"%(d2,d1,result)\n",
        "elif func == \"divide\":\n",
        "  result = divide(d1,d2)\n",
        "  text = \"When you divide %d by %d, you get %d.\"%(d1,d2,result)\n",
        "elif func == \"multiply\":\n",
        "  result = multiply(d1,d2)\n",
        "  text = \"%d multiplied by %d is %d.\"%(d1,d2,result)\n",
        "\n",
        "print(text)\n",
        "tts(text)\n",
        "Audio(\"E-audio.mp3\", autoplay = True)\n"
      ],
      "metadata": {
        "cellView": "form",
        "id": "FT47bY6qBo3k",
        "outputId": "043274a9-967d-4a03-9baf-5dfd3a586596",
        "colab": {
          "base_uri": "https://localhost:8080/",
          "height": 111
        }
      },
      "execution_count": 6,
      "outputs": [
        {
          "output_type": "stream",
          "name": "stdout",
          "text": [
            "Type two numbers: (e.g., 3,4)12, 12\n",
            "The addition of 12 and 12 equals 24.\n"
          ]
        },
        {
          "output_type": "execute_result",
          "data": {
            "text/plain": [
              "<IPython.lib.display.Audio object>"
            ],
            "text/html": [
              "\n",
              "                <audio  controls=\"controls\" autoplay=\"autoplay\">\n",
              "                    <source src=\"data:audio/mpeg;base64,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\" type=\"audio/mpeg\" />\n",
              "                    Your browser does not support the audio element.\n",
              "                </audio>\n",
              "              "
            ]
          },
          "metadata": {},
          "execution_count": 6
        }
      ]
    },
    {
      "cell_type": "markdown",
      "source": [
        "More operators: <br>\n",
        "* Comparison Operators: ==, !=, <, >, <=, >= <br>\n",
        "* Assignment Operators: =, +=, -=, *=, /=, %= <br>\n",
        "* Logical Operators: and, or, not <br>\n",
        "* Identity Operators: is, is not <br>\n",
        "* Membership Operators: in, not in "
      ],
      "metadata": {
        "id": "sfubu24UbqjH"
      }
    },
    {
      "cell_type": "markdown",
      "source": [
        "# 📗Topic [3] Data types: number, string, list and dictionary\n"
      ],
      "metadata": {
        "id": "3eSrUoglRh6-"
      }
    },
    {
      "cell_type": "markdown",
      "source": [
        "\n",
        "|Data type| |\n",
        "|:--:|:--:|\n",
        "|number|int, float| / dasfasfasfs\n",
        "|string|charcter|\n",
        "|list|[1, 2,4], ['Mary','Tom','Jane'|\n",
        "|dictionary|(key: value), [('English': 80), ('Korean':90)]|\n",
        "|tuple|('zero', 0)|\n"
      ],
      "metadata": {
        "id": "ZVFb5JmJrPXu"
      }
    },
    {
      "cell_type": "code",
      "source": [
        "a1 = 3   # a1 is integer 정수\n",
        "a2 = 3.0 # a2 is float 소수\n",
        "a3 = \"3\" # a3 is string 문자열\n",
        "\n",
        "type(a1); type(a2); type(a3) # ' ; ' 코딩이 짧은데 한줄에 다 적고싶을때\n",
        "print(type(a1), type(a2), type(a3))"
      ],
      "metadata": {
        "colab": {
          "base_uri": "https://localhost:8080/"
        },
        "id": "g-kvldqENA1e",
        "outputId": "420c7e92-74c7-493d-b223-5ee945cf5b76"
      },
      "execution_count": null,
      "outputs": [
        {
          "output_type": "stream",
          "name": "stdout",
          "text": [
            "<class 'int'> <class 'float'> <class 'str'>\n"
          ]
        }
      ]
    },
    {
      "cell_type": "markdown",
      "source": [
        "list and index (0, 1, 2,...)"
      ],
      "metadata": {
        "id": "HC_wMsPnNbzs"
      }
    },
    {
      "cell_type": "code",
      "source": [
        "a = [1, \"Mary\", 4, \"John\"]  # This is a list. / list는 여러개 모아서 적을수있음\n",
        "print(type(a))\n",
        "\n",
        "a+a"
      ],
      "metadata": {
        "colab": {
          "base_uri": "https://localhost:8080/"
        },
        "id": "LyTw7phONZHE",
        "outputId": "a54c70d4-9843-4d17-c108-8567c01b321f"
      },
      "execution_count": null,
      "outputs": [
        {
          "output_type": "stream",
          "name": "stdout",
          "text": [
            "<class 'list'>\n"
          ]
        },
        {
          "output_type": "execute_result",
          "data": {
            "text/plain": [
              "[1, 'Mary', 4, 'John', 1, 'Mary', 4, 'John']"
            ]
          },
          "metadata": {},
          "execution_count": 49
        }
      ]
    },
    {
      "cell_type": "markdown",
      "source": [
        "* index: Python index starts from '0'\n",
        "\n",
        "e.g., a = [1, 2, 3, 4]"
      ],
      "metadata": {
        "id": "-fL-pJvj7NW8"
      }
    },
    {
      "cell_type": "code",
      "source": [
        "a[0]\n",
        "type(a[0])\n",
        "type(a[1])\n",
        "a[0] + a[2]\n",
        "a[0] + a[1] # int + str = error / int(정수)와 str(문자열은 더할 수 없다)"
      ],
      "metadata": {
        "id": "9Z5zLDGc7X13",
        "outputId": "b3dbcc1e-ea4c-4010-e585-486a797b8521",
        "colab": {
          "base_uri": "https://localhost:8080/",
          "height": 211
        }
      },
      "execution_count": null,
      "outputs": [
        {
          "output_type": "error",
          "ename": "TypeError",
          "evalue": "ignored",
          "traceback": [
            "\u001b[0;31m---------------------------------------------------------------------------\u001b[0m",
            "\u001b[0;31mTypeError\u001b[0m                                 Traceback (most recent call last)",
            "\u001b[0;32m<ipython-input-55-6b699a7a71e2>\u001b[0m in \u001b[0;36m<module>\u001b[0;34m\u001b[0m\n\u001b[1;32m      3\u001b[0m \u001b[0mtype\u001b[0m\u001b[0;34m(\u001b[0m\u001b[0ma\u001b[0m\u001b[0;34m[\u001b[0m\u001b[0;36m1\u001b[0m\u001b[0;34m]\u001b[0m\u001b[0;34m)\u001b[0m\u001b[0;34m\u001b[0m\u001b[0;34m\u001b[0m\u001b[0m\n\u001b[1;32m      4\u001b[0m \u001b[0ma\u001b[0m\u001b[0;34m[\u001b[0m\u001b[0;36m0\u001b[0m\u001b[0;34m]\u001b[0m \u001b[0;34m+\u001b[0m \u001b[0ma\u001b[0m\u001b[0;34m[\u001b[0m\u001b[0;36m2\u001b[0m\u001b[0;34m]\u001b[0m\u001b[0;34m\u001b[0m\u001b[0;34m\u001b[0m\u001b[0m\n\u001b[0;32m----> 5\u001b[0;31m \u001b[0ma\u001b[0m\u001b[0;34m[\u001b[0m\u001b[0;36m0\u001b[0m\u001b[0;34m]\u001b[0m \u001b[0;34m+\u001b[0m \u001b[0ma\u001b[0m\u001b[0;34m[\u001b[0m\u001b[0;36m1\u001b[0m\u001b[0;34m]\u001b[0m \u001b[0;31m# int + str = error\u001b[0m\u001b[0;34m\u001b[0m\u001b[0;34m\u001b[0m\u001b[0m\n\u001b[0m",
            "\u001b[0;31mTypeError\u001b[0m: unsupported operand type(s) for +: 'int' and 'str'"
          ]
        }
      ]
    },
    {
      "cell_type": "markdown",
      "source": [
        "[Github accounts](https://raw.githubusercontent.com/MK316/Spring2023/main/DL/files/DL_github.csv)"
      ],
      "metadata": {
        "id": "S-KG49Zaim0S"
      }
    },
    {
      "cell_type": "markdown",
      "source": [
        "\n",
        "\n",
        "---\n",
        "# The End\n"
      ],
      "metadata": {
        "id": "3cZjH9xIiN4_"
      }
    }
  ]
}