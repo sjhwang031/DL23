{
  "nbformat": 4,
  "nbformat_minor": 0,
  "metadata": {
    "colab": {
      "provenance": [],
      "include_colab_link": true
    },
    "kernelspec": {
      "name": "python3",
      "display_name": "Python 3"
    },
    "language_info": {
      "name": "python"
    }
  },
  "cells": [
    {
      "cell_type": "markdown",
      "metadata": {
        "id": "view-in-github",
        "colab_type": "text"
      },
      "source": [
        "<a href=\"https://colab.research.google.com/github/sjhwang031/DL23/blob/main/DL/DLW02d.ipynb\" target=\"_parent\"><img src=\"https://colab.research.google.com/assets/colab-badge.svg\" alt=\"Open In Colab\"/></a>"
      ]
    },
    {
      "cell_type": "markdown",
      "source": [
        "---\n",
        "# 📗 Topic [2]: Coding basic #2\n",
        "---\n",
        "Keywords:\n",
        "\n",
        "+ variables\n",
        "+ **operators**\n",
        "+ **data types: list and dictionary**"
      ],
      "metadata": {
        "id": "k4A5_MYHpcNQ"
      }
    },
    {
      "cell_type": "markdown",
      "source": [
        "Your github IDs [here](https://docs.google.com/spreadsheets/d/17SX51lCqOdtvC7cAGoX5tP9fKwVdGY5sRzMg2pXh9uk/edit#gid=0) - revised 0327"
      ],
      "metadata": {
        "id": "mUVgzk50XMkt"
      }
    },
    {
      "cell_type": "markdown",
      "source": [
        "## [1] Variables 변수\n"
      ],
      "metadata": {
        "id": "93gQaEo1RX63"
      }
    },
    {
      "cell_type": "markdown",
      "source": [
        "+ **A variable** is a named storage location that holds a value.\n",
        "+ Variables can be used **to store values** such as numbers, strings, lists, or other data types. \n",
        "+ The value of a variable can change throughout the execution of a program. \n",
        "+ To declare a variable in Python, you need to assign a value to it using the **equal (=) sign.**"
      ],
      "metadata": {
        "id": "jJT4hD1teuJr"
      }
    },
    {
      "cell_type": "code",
      "source": [
        "x = 10\n",
        "y = \"Hello, class!\"\n",
        "z = [1, 2, 3]"
      ],
      "metadata": {
        "id": "Xes87bY2X45M"
      },
      "execution_count": 1,
      "outputs": []
    },
    {
      "cell_type": "markdown",
      "source": [
        "↗️ In the above example, 'x' is assigned the value of 10, 'y' is assigned the value of \"Hello, World!\", and 'z' is assigned the value of [1, 2, 3]."
      ],
      "metadata": {
        "id": "ulw6QsP5ZiKp"
      }
    },
    {
      "cell_type": "code",
      "source": [
        "# We can assign a link or a function\n",
        "import pandas as pd\n",
        "url = \"https://github.com/MK316/Spring2023/raw/main/data/att_sample.csv\"\n",
        "data = pd.read_csv(url)\n",
        "data"
      ],
      "metadata": {
        "id": "_7bvpJt2aQmg",
        "outputId": "5901fba4-458f-41c8-ac92-b73b82dd35b1",
        "colab": {
          "base_uri": "https://localhost:8080/",
          "height": 488
        }
      },
      "execution_count": 2,
      "outputs": [
        {
          "output_type": "execute_result",
          "data": {
            "text/plain": [
              "      Names\n",
              "0      Mary\n",
              "1      John\n",
              "2       Tim\n",
              "3       Bob\n",
              "4     Sarah\n",
              "5      Kate\n",
              "6     Marie\n",
              "7   Johnson\n",
              "8      Mike\n",
              "9     Harry\n",
              "10      Jin\n",
              "11      Sam\n",
              "12     Paul\n",
              "13  Natalie"
            ],
            "text/html": [
              "\n",
              "  <div id=\"df-9fbbe107-a66a-4168-a51d-0f1843fe9474\">\n",
              "    <div class=\"colab-df-container\">\n",
              "      <div>\n",
              "<style scoped>\n",
              "    .dataframe tbody tr th:only-of-type {\n",
              "        vertical-align: middle;\n",
              "    }\n",
              "\n",
              "    .dataframe tbody tr th {\n",
              "        vertical-align: top;\n",
              "    }\n",
              "\n",
              "    .dataframe thead th {\n",
              "        text-align: right;\n",
              "    }\n",
              "</style>\n",
              "<table border=\"1\" class=\"dataframe\">\n",
              "  <thead>\n",
              "    <tr style=\"text-align: right;\">\n",
              "      <th></th>\n",
              "      <th>Names</th>\n",
              "    </tr>\n",
              "  </thead>\n",
              "  <tbody>\n",
              "    <tr>\n",
              "      <th>0</th>\n",
              "      <td>Mary</td>\n",
              "    </tr>\n",
              "    <tr>\n",
              "      <th>1</th>\n",
              "      <td>John</td>\n",
              "    </tr>\n",
              "    <tr>\n",
              "      <th>2</th>\n",
              "      <td>Tim</td>\n",
              "    </tr>\n",
              "    <tr>\n",
              "      <th>3</th>\n",
              "      <td>Bob</td>\n",
              "    </tr>\n",
              "    <tr>\n",
              "      <th>4</th>\n",
              "      <td>Sarah</td>\n",
              "    </tr>\n",
              "    <tr>\n",
              "      <th>5</th>\n",
              "      <td>Kate</td>\n",
              "    </tr>\n",
              "    <tr>\n",
              "      <th>6</th>\n",
              "      <td>Marie</td>\n",
              "    </tr>\n",
              "    <tr>\n",
              "      <th>7</th>\n",
              "      <td>Johnson</td>\n",
              "    </tr>\n",
              "    <tr>\n",
              "      <th>8</th>\n",
              "      <td>Mike</td>\n",
              "    </tr>\n",
              "    <tr>\n",
              "      <th>9</th>\n",
              "      <td>Harry</td>\n",
              "    </tr>\n",
              "    <tr>\n",
              "      <th>10</th>\n",
              "      <td>Jin</td>\n",
              "    </tr>\n",
              "    <tr>\n",
              "      <th>11</th>\n",
              "      <td>Sam</td>\n",
              "    </tr>\n",
              "    <tr>\n",
              "      <th>12</th>\n",
              "      <td>Paul</td>\n",
              "    </tr>\n",
              "    <tr>\n",
              "      <th>13</th>\n",
              "      <td>Natalie</td>\n",
              "    </tr>\n",
              "  </tbody>\n",
              "</table>\n",
              "</div>\n",
              "      <button class=\"colab-df-convert\" onclick=\"convertToInteractive('df-9fbbe107-a66a-4168-a51d-0f1843fe9474')\"\n",
              "              title=\"Convert this dataframe to an interactive table.\"\n",
              "              style=\"display:none;\">\n",
              "        \n",
              "  <svg xmlns=\"http://www.w3.org/2000/svg\" height=\"24px\"viewBox=\"0 0 24 24\"\n",
              "       width=\"24px\">\n",
              "    <path d=\"M0 0h24v24H0V0z\" fill=\"none\"/>\n",
              "    <path d=\"M18.56 5.44l.94 2.06.94-2.06 2.06-.94-2.06-.94-.94-2.06-.94 2.06-2.06.94zm-11 1L8.5 8.5l.94-2.06 2.06-.94-2.06-.94L8.5 2.5l-.94 2.06-2.06.94zm10 10l.94 2.06.94-2.06 2.06-.94-2.06-.94-.94-2.06-.94 2.06-2.06.94z\"/><path d=\"M17.41 7.96l-1.37-1.37c-.4-.4-.92-.59-1.43-.59-.52 0-1.04.2-1.43.59L10.3 9.45l-7.72 7.72c-.78.78-.78 2.05 0 2.83L4 21.41c.39.39.9.59 1.41.59.51 0 1.02-.2 1.41-.59l7.78-7.78 2.81-2.81c.8-.78.8-2.07 0-2.86zM5.41 20L4 18.59l7.72-7.72 1.47 1.35L5.41 20z\"/>\n",
              "  </svg>\n",
              "      </button>\n",
              "      \n",
              "  <style>\n",
              "    .colab-df-container {\n",
              "      display:flex;\n",
              "      flex-wrap:wrap;\n",
              "      gap: 12px;\n",
              "    }\n",
              "\n",
              "    .colab-df-convert {\n",
              "      background-color: #E8F0FE;\n",
              "      border: none;\n",
              "      border-radius: 50%;\n",
              "      cursor: pointer;\n",
              "      display: none;\n",
              "      fill: #1967D2;\n",
              "      height: 32px;\n",
              "      padding: 0 0 0 0;\n",
              "      width: 32px;\n",
              "    }\n",
              "\n",
              "    .colab-df-convert:hover {\n",
              "      background-color: #E2EBFA;\n",
              "      box-shadow: 0px 1px 2px rgba(60, 64, 67, 0.3), 0px 1px 3px 1px rgba(60, 64, 67, 0.15);\n",
              "      fill: #174EA6;\n",
              "    }\n",
              "\n",
              "    [theme=dark] .colab-df-convert {\n",
              "      background-color: #3B4455;\n",
              "      fill: #D2E3FC;\n",
              "    }\n",
              "\n",
              "    [theme=dark] .colab-df-convert:hover {\n",
              "      background-color: #434B5C;\n",
              "      box-shadow: 0px 1px 3px 1px rgba(0, 0, 0, 0.15);\n",
              "      filter: drop-shadow(0px 1px 2px rgba(0, 0, 0, 0.3));\n",
              "      fill: #FFFFFF;\n",
              "    }\n",
              "  </style>\n",
              "\n",
              "      <script>\n",
              "        const buttonEl =\n",
              "          document.querySelector('#df-9fbbe107-a66a-4168-a51d-0f1843fe9474 button.colab-df-convert');\n",
              "        buttonEl.style.display =\n",
              "          google.colab.kernel.accessAllowed ? 'block' : 'none';\n",
              "\n",
              "        async function convertToInteractive(key) {\n",
              "          const element = document.querySelector('#df-9fbbe107-a66a-4168-a51d-0f1843fe9474');\n",
              "          const dataTable =\n",
              "            await google.colab.kernel.invokeFunction('convertToInteractive',\n",
              "                                                     [key], {});\n",
              "          if (!dataTable) return;\n",
              "\n",
              "          const docLinkHtml = 'Like what you see? Visit the ' +\n",
              "            '<a target=\"_blank\" href=https://colab.research.google.com/notebooks/data_table.ipynb>data table notebook</a>'\n",
              "            + ' to learn more about interactive tables.';\n",
              "          element.innerHTML = '';\n",
              "          dataTable['output_type'] = 'display_data';\n",
              "          await google.colab.output.renderOutput(dataTable, element);\n",
              "          const docLink = document.createElement('div');\n",
              "          docLink.innerHTML = docLinkHtml;\n",
              "          element.appendChild(docLink);\n",
              "        }\n",
              "      </script>\n",
              "    </div>\n",
              "  </div>\n",
              "  "
            ]
          },
          "metadata": {},
          "execution_count": 2
        }
      ]
    },
    {
      "cell_type": "markdown",
      "source": [
        "## Commenting '#' / '#'<< 메모용(코딩에 지장없음)\n",
        "\n",
        "- In Python, the # symbol is used to indicate comment lines. A comment is a line of text in a code that is ignored by the Python interpreter and is used to provide explanations or notes for the reader of the code.\n",
        "\n",
        "## Uncommenting shortcut: / #단축키: Ctrl + /\n",
        "* \"Ctrl + /\" (Place the cursor on the code line and press the Control + / key.)"
      ],
      "metadata": {
        "id": "xZv9R8I8ZWvt"
      }
    },
    {
      "cell_type": "code",
      "source": [
        "# This is a comment in Python\n",
        "# x = 10 # this is also a comment "
      ],
      "metadata": {
        "id": "7UJmbmmTaFx9"
      },
      "execution_count": 3,
      "outputs": []
    },
    {
      "cell_type": "code",
      "source": [
        "x1 = x * 10\n",
        "x2 = x + 5\n",
        "\n",
        "#print(x1) # Print the value of x1\n",
        "# print(x1, x2) # Print the values of x1 and x2"
      ],
      "metadata": {
        "id": "Ivc72tB0X_TS",
        "outputId": "c8a1c3f0-fc3f-4f6b-ac01-1337fa4b8e28",
        "colab": {
          "base_uri": "https://localhost:8080/"
        }
      },
      "execution_count": 22,
      "outputs": [
        {
          "output_type": "stream",
          "name": "stdout",
          "text": [
            "20 7\n"
          ]
        }
      ]
    },
    {
      "cell_type": "code",
      "source": [
        "print(y)\n",
        "y = 'hello'\n",
        "z= [3,2,1]\n",
        "y1 = y + \"Welcome to the class.\"\n",
        "z1 = z + [3,2,1]\n",
        " \n",
        "print(y1, z1)"
      ],
      "metadata": {
        "id": "cxePqv-52RU0",
        "outputId": "7ac3a13a-0c2d-4d9f-d08c-36bdfdfbee7e",
        "colab": {
          "base_uri": "https://localhost:8080/"
        }
      },
      "execution_count": 61,
      "outputs": [
        {
          "output_type": "stream",
          "name": "stdout",
          "text": [
            "hello\n",
            "helloWelcome to the class. [3, 2, 1, 3, 2, 1]\n"
          ]
        }
      ]
    },
    {
      "cell_type": "markdown",
      "source": [
        "Input types:\n",
        "\n",
        "* integer: e.g., -3, 1, 0, 234, etc.\n",
        "* float: e.g., -3.0, 1.2, 0, 3.141592653589793238, etc.\n",
        "* string: (characters) \"1\", '0', \"3.29\", \"Mary\", \"euphoria\", 'My name is Jane.'\n",
        "\n",
        "_Note:_ double or single quotation marks denote **string** data. (Open and close should match.)"
      ],
      "metadata": {
        "id": "4zDbyBHbeQsq"
      }
    },
    {
      "cell_type": "code",
      "source": [
        "# DIY\n",
        "x = 1\n",
        "y = 3\n",
        "z = x + y\n",
        "print(z)\n",
        "\n",
        "x1 = \"1\"\n",
        "y1 = \"3\"\n",
        "z1 = x1 + y1\n",
        "print(z1)"
      ],
      "metadata": {
        "colab": {
          "base_uri": "https://localhost:8080/"
        },
        "id": "yzZuC29QfP3T",
        "outputId": "c9087190-01c2-422b-9219-91cf7e2ce39d"
      },
      "execution_count": 6,
      "outputs": [
        {
          "output_type": "stream",
          "name": "stdout",
          "text": [
            "4\n",
            "13\n"
          ]
        }
      ]
    },
    {
      "cell_type": "code",
      "source": [
        "type(z)"
      ],
      "metadata": {
        "colab": {
          "base_uri": "https://localhost:8080/"
        },
        "id": "qwDb8cf5fkKi",
        "outputId": "d6f7ecf6-ac13-406d-dfd2-04f501bf6aa7"
      },
      "execution_count": 7,
      "outputs": [
        {
          "output_type": "execute_result",
          "data": {
            "text/plain": [
              "int"
            ]
          },
          "metadata": {},
          "execution_count": 7
        }
      ]
    },
    {
      "cell_type": "code",
      "source": [
        "type(z1)"
      ],
      "metadata": {
        "colab": {
          "base_uri": "https://localhost:8080/"
        },
        "id": "L7sxvSaOfsOt",
        "outputId": "990d0afe-d7e3-4774-e5df-0707ba90fb4f"
      },
      "execution_count": 36,
      "outputs": [
        {
          "output_type": "execute_result",
          "data": {
            "text/plain": [
              "int"
            ]
          },
          "metadata": {},
          "execution_count": 36
        }
      ]
    },
    {
      "cell_type": "code",
      "source": [
        "print(type(z), type(z1))"
      ],
      "metadata": {
        "colab": {
          "base_uri": "https://localhost:8080/"
        },
        "id": "bbFaL_GWfwMH",
        "outputId": "7a8f87d7-87d7-45cf-89ed-8cb2eedb026f"
      },
      "execution_count": 9,
      "outputs": [
        {
          "output_type": "stream",
          "name": "stdout",
          "text": [
            "<class 'int'> <class 'str'>\n"
          ]
        }
      ]
    },
    {
      "cell_type": "markdown",
      "source": [
        "## [2] Operators\n",
        "\n",
        "* Symbols that perform operations on values and variables. \n",
        "* They are used to perform arithmetic and logical operations, and they can also be used to manipulate and compare values. "
      ],
      "metadata": {
        "id": "5JgA2T2dRft5"
      }
    },
    {
      "cell_type": "markdown",
      "source": [
        "1. Arithmetic Operators: +, -, *, /, %, ** (for exponentiation)\n",
        "2. semicolon ';' - separate multiple statements (code lines) on a single line."
      ],
      "metadata": {
        "id": "NJBgu_O4bczL"
      }
    },
    {
      "cell_type": "code",
      "source": [
        "x = 2; y = 5\n",
        "\n",
        "a1 = x + y\n",
        "a2 = x - y\n",
        "a3 = x * y\n",
        "a4 = x / y\n",
        "a5 = x ** y"
      ],
      "metadata": {
        "id": "dXT3pIzobUHU"
      },
      "execution_count": 35,
      "outputs": []
    },
    {
      "cell_type": "code",
      "source": [
        "print(a1, a2, a3, a4, a5)"
      ],
      "metadata": {
        "colab": {
          "base_uri": "https://localhost:8080/"
        },
        "id": "_m3JBsOKd6Uv",
        "outputId": "92415e22-01be-415c-d821-8c639015fc7c"
      },
      "execution_count": 11,
      "outputs": [
        {
          "output_type": "stream",
          "name": "stdout",
          "text": [
            "7 -3 10 0.4 32\n"
          ]
        }
      ]
    },
    {
      "cell_type": "code",
      "source": [
        "print(\"The value of a1:\", a1) "
      ],
      "metadata": {
        "colab": {
          "base_uri": "https://localhost:8080/"
        },
        "id": "5kq7I3nMd0Xi",
        "outputId": "0ea44c20-1246-45eb-8003-48b359b586ad"
      },
      "execution_count": 12,
      "outputs": [
        {
          "output_type": "stream",
          "name": "stdout",
          "text": [
            "The value of a1: 7\n"
          ]
        }
      ]
    },
    {
      "cell_type": "markdown",
      "source": [
        "# 🌱 Define a function / 함수 정의하기\n",
        "\n",
        "Demo 🔢 Calculator"
      ],
      "metadata": {
        "id": "Cx1NyWUAybc8"
      }
    },
    {
      "cell_type": "code",
      "source": [
        "# This function adds two numbers / #def는 정의내리는거 def를 add 앞에 넣어줘서 return의 수식인 +(더하기)기능을 add가 수행하게됨!(add가 아니라 아무거나 와도 상관없음음)  \n",
        "def add(x, y):\n",
        "    return x + y\n",
        "\n",
        "# This function subtracts two numbers\n",
        "def subtract(x, y):\n",
        "    return x - y\n",
        "\n",
        "# This function multiplies two numbers\n",
        "def multiply(x, y):\n",
        "    return x * y\n",
        "\n",
        "# This function divides two numbers\n",
        "def divide(x, y):\n",
        "    return x / y\n"
      ],
      "metadata": {
        "id": "Dod3_zgYdsWe"
      },
      "execution_count": 13,
      "outputs": []
    },
    {
      "cell_type": "code",
      "source": [
        "# DIY: define a function names switch(x, y), where the input x, y changes its position in the output.\n",
        "def switch(x, y):\n",
        "    return(y, x) \n"
      ],
      "metadata": {
        "id": "W9CuAaqXgwb5"
      },
      "execution_count": 39,
      "outputs": []
    },
    {
      "cell_type": "code",
      "source": [
        "switch(\"it\", \"is\" )"
      ],
      "metadata": {
        "id": "VdQOLxTNaN7t",
        "outputId": "afda5582-cd67-467d-aedc-405d5ad4910e",
        "colab": {
          "base_uri": "https://localhost:8080/"
        }
      },
      "execution_count": 42,
      "outputs": [
        {
          "output_type": "execute_result",
          "data": {
            "text/plain": [
              "('is', 'it')"
            ]
          },
          "metadata": {},
          "execution_count": 42
        }
      ]
    },
    {
      "cell_type": "code",
      "source": [
        "add(1200,34)"
      ],
      "metadata": {
        "id": "br8NXBwtMpMI",
        "outputId": "2e4c5c3e-602d-4934-9095-5b0a70045b82",
        "colab": {
          "base_uri": "https://localhost:8080/"
        }
      },
      "execution_count": 15,
      "outputs": [
        {
          "output_type": "execute_result",
          "data": {
            "text/plain": [
              "1234"
            ]
          },
          "metadata": {},
          "execution_count": 15
        }
      ]
    },
    {
      "cell_type": "code",
      "source": [
        "# Test\n",
        "\n",
        "add(2,3)\n",
        "subtract(3,2)\n",
        "multiply(2,3)\n",
        "divide(3,2)"
      ],
      "metadata": {
        "id": "IoHh-U2GBsqH",
        "outputId": "1e5ac7c8-dc97-4a0d-e07b-fc8453046943",
        "colab": {
          "base_uri": "https://localhost:8080/"
        }
      },
      "execution_count": 16,
      "outputs": [
        {
          "output_type": "execute_result",
          "data": {
            "text/plain": [
              "1.5"
            ]
          },
          "metadata": {},
          "execution_count": 16
        }
      ]
    },
    {
      "cell_type": "markdown",
      "source": [
        "## Using dropbox format"
      ],
      "metadata": {
        "id": "eOluPoNqCCE1"
      }
    },
    {
      "cell_type": "code",
      "source": [
        "#@markdown 🔄 Making functions: tts('text')\n",
        "%%capture\n",
        "!pip install gTTS\n",
        "from gtts import gTTS\n",
        "from IPython.display import Audio\n",
        "\n",
        "def tts(text):\n",
        "  text_to_say = text\n",
        "\n",
        "  gtts_object = gTTS(text = text_to_say,\n",
        "                     lang = \"en\", tld = \"us\",\n",
        "                    slow = True)\n",
        "  \n",
        "  gtts_object.save(\"E-audio.mp3\")\n",
        "  return Audio(\"E-audio.mp3\")"
      ],
      "metadata": {
        "id": "nRtyN0p6NoKA"
      },
      "execution_count": 17,
      "outputs": []
    },
    {
      "cell_type": "code",
      "source": [
        "func = \"multiply\" #@param = [\"add\",\"subtract\",\"multiply\",\"divide\"]\n",
        "digits = input(\"Type two numbers: (e.g., 3,4)\")\n",
        "digitsplit = digits.split(',')\n",
        "d1 = int(digitsplit[0])\n",
        "d2 = int(digitsplit[1])\n",
        "\n",
        "if func == \"add\":\n",
        "  result = add(d1,d2)\n",
        "  text = \"The addition of %d and %d equals %d.\"%(d1,d2,result)\n",
        "elif func == \"subtract\":\n",
        "  result = subtract(d1,d2)\n",
        "  text = \"If you subtract %d from %d, you get %d.\"%(d2,d1,result)\n",
        "elif func == \"divide\":\n",
        "  result = divide(d1,d2)\n",
        "  text = \"When you divide %d by %d, you get %d.\"%(d1,d2,result)\n",
        "elif func == \"multiply\":\n",
        "  result = multiply(d1,d2)\n",
        "  text = \"%d multiplied by %d is %d.\"%(d1,d2,result)\n",
        "\n",
        "print(text)\n",
        "tts(text)\n",
        "Audio(\"E-audio.mp3\", autoplay = True)\n"
      ],
      "metadata": {
        "cellView": "form",
        "id": "FT47bY6qBo3k",
        "outputId": "94aeb023-c86b-44c9-b03f-12f82b04e7e0",
        "colab": {
          "base_uri": "https://localhost:8080/",
          "height": 111
        }
      },
      "execution_count": 46,
      "outputs": [
        {
          "output_type": "stream",
          "name": "stdout",
          "text": [
            "Type two numbers: (e.g., 3,4)2, 4\n",
            "2 multiplied by 4 is 8.\n"
          ]
        },
        {
          "output_type": "execute_result",
          "data": {
            "text/plain": [
              "<IPython.lib.display.Audio object>"
            ],
            "text/html": [
              "\n",
              "                <audio  controls=\"controls\" autoplay=\"autoplay\">\n",
              "                    <source src=\"data:audio/mpeg;base64,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\" type=\"audio/mpeg\" />\n",
              "                    Your browser does not support the audio element.\n",
              "                </audio>\n",
              "              "
            ]
          },
          "metadata": {},
          "execution_count": 46
        }
      ]
    },
    {
      "cell_type": "markdown",
      "source": [
        "More operators: <br>\n",
        "* Comparison Operators: ==, !=, <, >, <=, >= <br>\n",
        "* Assignment Operators: =, +=, -=, *=, /=, %= <br>\n",
        "* Logical Operators: and, or, not <br>\n",
        "* Identity Operators: is, is not <br>\n",
        "* Membership Operators: in, not in "
      ],
      "metadata": {
        "id": "sfubu24UbqjH"
      }
    },
    {
      "cell_type": "markdown",
      "source": [
        "# 📗Topic [3] Data types: number, string, list and dictionary\n"
      ],
      "metadata": {
        "id": "3eSrUoglRh6-"
      }
    },
    {
      "cell_type": "markdown",
      "source": [
        "\n",
        "|Data type| |\n",
        "|:--:|:--:|\n",
        "|number|int, float| / dasfasfasfs\n",
        "|string|charcter|\n",
        "|list|[1, 2,4], ['Mary','Tom','Jane'|\n",
        "|dictionary|(key: value), [('English': 80), ('Korean':90)]|\n",
        "|tuple|('zero', 0)|\n"
      ],
      "metadata": {
        "id": "ZVFb5JmJrPXu"
      }
    },
    {
      "cell_type": "code",
      "source": [
        "a1 = 3   # a1 is integer 정수\n",
        "a2 = 3.0 # a2 is float 소수\n",
        "a3 = \"3\" # a3 is string 문자열\n",
        "\n",
        "type(a1); type(a2); type(a3) # ' ; ' 코딩이 짧은데 한줄에 다 적고싶을때\n",
        "print(type(a1), type(a2), type(a3))"
      ],
      "metadata": {
        "colab": {
          "base_uri": "https://localhost:8080/"
        },
        "id": "g-kvldqENA1e",
        "outputId": "420c7e92-74c7-493d-b223-5ee945cf5b76"
      },
      "execution_count": 47,
      "outputs": [
        {
          "output_type": "stream",
          "name": "stdout",
          "text": [
            "<class 'int'> <class 'float'> <class 'str'>\n"
          ]
        }
      ]
    },
    {
      "cell_type": "markdown",
      "source": [
        "list and index (0, 1, 2,...)"
      ],
      "metadata": {
        "id": "HC_wMsPnNbzs"
      }
    },
    {
      "cell_type": "code",
      "source": [
        "a = [1, \"Mary\", 4, \"John\"]  # This is a list. / list는 여러개 모아서 적을수있음\n",
        "print(type(a))\n",
        "\n",
        "a+a"
      ],
      "metadata": {
        "colab": {
          "base_uri": "https://localhost:8080/"
        },
        "id": "LyTw7phONZHE",
        "outputId": "a54c70d4-9843-4d17-c108-8567c01b321f"
      },
      "execution_count": 49,
      "outputs": [
        {
          "output_type": "stream",
          "name": "stdout",
          "text": [
            "<class 'list'>\n"
          ]
        },
        {
          "output_type": "execute_result",
          "data": {
            "text/plain": [
              "[1, 'Mary', 4, 'John', 1, 'Mary', 4, 'John']"
            ]
          },
          "metadata": {},
          "execution_count": 49
        }
      ]
    },
    {
      "cell_type": "markdown",
      "source": [
        "* index: Python index starts from '0'\n",
        "\n",
        "e.g., a = [1, 2, 3, 4]"
      ],
      "metadata": {
        "id": "-fL-pJvj7NW8"
      }
    },
    {
      "cell_type": "code",
      "source": [
        "a[0]\n",
        "type(a[0])\n",
        "type(a[1])\n",
        "a[0] + a[2]\n",
        "a[0] + a[1] # int + str = error / int(정수)와 str(문자열은 더할 수 없다)"
      ],
      "metadata": {
        "id": "9Z5zLDGc7X13",
        "outputId": "b3dbcc1e-ea4c-4010-e585-486a797b8521",
        "colab": {
          "base_uri": "https://localhost:8080/",
          "height": 211
        }
      },
      "execution_count": 55,
      "outputs": [
        {
          "output_type": "error",
          "ename": "TypeError",
          "evalue": "ignored",
          "traceback": [
            "\u001b[0;31m---------------------------------------------------------------------------\u001b[0m",
            "\u001b[0;31mTypeError\u001b[0m                                 Traceback (most recent call last)",
            "\u001b[0;32m<ipython-input-55-6b699a7a71e2>\u001b[0m in \u001b[0;36m<module>\u001b[0;34m\u001b[0m\n\u001b[1;32m      3\u001b[0m \u001b[0mtype\u001b[0m\u001b[0;34m(\u001b[0m\u001b[0ma\u001b[0m\u001b[0;34m[\u001b[0m\u001b[0;36m1\u001b[0m\u001b[0;34m]\u001b[0m\u001b[0;34m)\u001b[0m\u001b[0;34m\u001b[0m\u001b[0;34m\u001b[0m\u001b[0m\n\u001b[1;32m      4\u001b[0m \u001b[0ma\u001b[0m\u001b[0;34m[\u001b[0m\u001b[0;36m0\u001b[0m\u001b[0;34m]\u001b[0m \u001b[0;34m+\u001b[0m \u001b[0ma\u001b[0m\u001b[0;34m[\u001b[0m\u001b[0;36m2\u001b[0m\u001b[0;34m]\u001b[0m\u001b[0;34m\u001b[0m\u001b[0;34m\u001b[0m\u001b[0m\n\u001b[0;32m----> 5\u001b[0;31m \u001b[0ma\u001b[0m\u001b[0;34m[\u001b[0m\u001b[0;36m0\u001b[0m\u001b[0;34m]\u001b[0m \u001b[0;34m+\u001b[0m \u001b[0ma\u001b[0m\u001b[0;34m[\u001b[0m\u001b[0;36m1\u001b[0m\u001b[0;34m]\u001b[0m \u001b[0;31m# int + str = error\u001b[0m\u001b[0;34m\u001b[0m\u001b[0;34m\u001b[0m\u001b[0m\n\u001b[0m",
            "\u001b[0;31mTypeError\u001b[0m: unsupported operand type(s) for +: 'int' and 'str'"
          ]
        }
      ]
    },
    {
      "cell_type": "markdown",
      "source": [
        "[Github accounts](https://raw.githubusercontent.com/MK316/Spring2023/main/DL/files/DL_github.csv)"
      ],
      "metadata": {
        "id": "S-KG49Zaim0S"
      }
    },
    {
      "cell_type": "markdown",
      "source": [
        "\n",
        "\n",
        "---\n",
        "# The End\n"
      ],
      "metadata": {
        "id": "3cZjH9xIiN4_"
      }
    }
  ]
}